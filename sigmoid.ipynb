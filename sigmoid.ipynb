{
 "cells": [
  {
   "cell_type": "code",
   "execution_count": null,
   "id": "6f6c65ae",
   "metadata": {},
   "outputs": [],
   "source": [
    "import numpy as np\n",
    "import matplotlib.pyplot as plt\n",
    "import matplotlib.colors\n",
    "import pandas as pd\n",
    "from sklearn.model_selection import train_test_split\n",
    "from sklearn.metrics import accuracy_score, mean_squared_error\n",
    "from tqdm import tqdm_notebook \n"
   ]
  },
  {
   "cell_type": "code",
   "execution_count": null,
   "id": "dbde8713",
   "metadata": {},
   "outputs": [],
   "source": [
    "\n",
    "class SigmoidNeuron:\n",
    "    def __init__(self):\n",
    " \n",
    "        self.w = None\n",
    "        self.b = None\n",
    "\n",
    "    def perceptron(self, x):\n",
    "        \n",
    "        return np.dot(x, self.w) + self.b\n",
    "\n",
    "    def sigmoid(self, z):\n",
    "        return 1 / (1 + np.exp(-z))\n",
    "\n",
    "    def grad_w_mse(self, x, y):\n",
    "        y_pred = self.sigmoid(self.perceptron(x))\n",
    "        return (y_pred - y) * y_pred * (1 - y_pred) * x\n",
    "\n",
    "    def grad_b_mse(self, x, y):\n",
    "        y_pred = self.sigmoid(self.perceptron(x))\n",
    "        return (y_pred - y) * y_pred * (1 - y_pred)\n",
    "\n",
    "    def grad_w_ce(self, x, y):\n",
    "        y_pred = self.sigmoid(self.perceptron(x))\n",
    "        if y == 0:\n",
    "            return y_pred * x\n",
    "        else:  # y == 1\n",
    "            return - (1 - y_pred) * x\n",
    "\n",
    "    def grad_b_ce(self, x, y):\n",
    "        y_pred = self.sigmoid(self.perceptron(x))\n",
    "        if y == 0:\n",
    "            return y_pred\n",
    "        else:  # y == 1\n",
    "            return - (1 - y_pred)\n",
    "\n",
    "    def fit(self, X, Y, epochs=10, lr=0.1, loss_fn=\"mse\"):\n",
    "        \n",
    "        self.w = np.random.randn(X.shape[1])\n",
    "        self.b = 0\n",
    "\n",
    "        \n",
    "        loss_history = []                            # loss\n",
    "\n",
    "        for epoch in range(epochs):\n",
    "            total_dw = 0\n",
    "            total_db = 0\n",
    "            for i in range(len(X)):\n",
    "                x = X[i]\n",
    "                y = Y[i]\n",
    "                if loss_fn == \"mse\":\n",
    "                    total_dw += self.grad_w_mse(x, y)\n",
    "                    total_db += self.grad_b_mse(x, y)\n",
    "                elif loss_fn == \"ce\":\n",
    "                    total_dw += self.grad_w_ce(x, y)\n",
    "                    total_db += self.grad_b_ce(x, y)\n",
    "\n",
    "            \n",
    "            total_dw /= len(X)\n",
    "            total_db /= len(X)\n",
    "\n",
    "            \n",
    "            self.w -= lr * total_dw\n",
    "            self.b -= lr * total_db\n",
    "\n",
    "            Y_pred = self.predict(X)\n",
    "            if loss_fn == \"mse\":\n",
    "                loss = np.mean((Y - Y_pred) ** 2)\n",
    "            elif loss_fn == \"ce\":\n",
    "          \n",
    "                Y_pred = np.clip(Y_pred, 1e-10, 1-1e-10)\n",
    "                loss = -np.mean(Y*np.log(Y_pred) + (1-Y)*np.log(1-Y_pred))\n",
    "\n",
    "            loss_history.append(loss)\n",
    "            print(f\"Epoch data inga varum {epoch+1}, Loss evlo {loss:.4f}\")\n",
    "\n",
    "        \n",
    "        plt.plot(loss_history)\n",
    "        plt.xlabel(\"Epochs\")\n",
    "        plt.ylabel(\"Loss\")\n",
    "        plt.show()\n",
    "\n",
    "    def predict(self, X):\n",
    "     \n",
    "        return np.array([self.sigmoid(self.perceptron(x)) for x in X])\n"
   ]
  },
  {
   "cell_type": "code",
   "execution_count": null,
   "id": "a552f2f1",
   "metadata": {},
   "outputs": [],
   "source": [
    "my_cmap = matplotlib.colors.LinearSegmentedColormap.from_list(\"\", [\"red\",\"yellow\",\"green\"])\n",
    "np.random.seed(0)"
   ]
  },
  {
   "cell_type": "code",
   "execution_count": null,
   "id": "b21dc5a6",
   "metadata": {},
   "outputs": [],
   "source": [
    "data, labels = make_blobs(n_samples=1000, centers=4, n_features=2, random_state=0)\n",
    "print(data.shape, labels.shape)"
   ]
  },
  {
   "cell_type": "code",
   "execution_count": null,
   "id": "ca6e7233",
   "metadata": {},
   "outputs": [],
   "source": [
    "plt.scatter(data[:,0], data[:,1], c=labels, cmap=my_cmap)\n",
    "plt.show()"
   ]
  },
  {
   "cell_type": "code",
   "execution_count": null,
   "id": "f2fc9263",
   "metadata": {},
   "outputs": [],
   "source": [
    "X_train, X_val, Y_train, Y_val = train_test_split(data, labels, stratify=labels, random_state=0)\n",
    "print(X_train.shape, X_val.shape)\n"
   ]
  }
 ],
 "metadata": {
  "language_info": {
   "name": "python"
  }
 },
 "nbformat": 4,
 "nbformat_minor": 5
}
