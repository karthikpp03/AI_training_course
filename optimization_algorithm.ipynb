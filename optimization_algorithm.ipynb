{
 "cells": [
  {
   "cell_type": "code",
   "execution_count": 1,
   "id": "e7928eb0",
   "metadata": {},
   "outputs": [],
   "source": [
    "from mpl_toolkits.mplot3d import Axes3D\n",
    "import matplotlib.pyplot as plt\n",
    "\n",
    "from matplotlib import cm\n",
    "import matplotlib.colors\n",
    "\n",
    "from matplotlib import animation, rc\n",
    "from IPython.display import HTML\n",
    "\n",
    "import numpy as np"
   ]
  },
  {
   "cell_type": "code",
   "execution_count": 16,
   "id": "8d22cd6c",
   "metadata": {},
   "outputs": [],
   "source": [
    "class SimpleNeuron:\n",
    "    def __init__(self, w_init, b_init):\n",
    "     \n",
    "        self.w = w_init\n",
    "        self.b = b_init\n",
    "       \n",
    "        self.w_history = []\n",
    "        self.b_history = []\n",
    "        self.error_history = []\n",
    "\n",
    "   \n",
    "    def sigmoid(self, x):\n",
    "        return 1 / (1 + np.exp(-(self.w * x + self.b)))\n",
    "   \n",
    "    def compute_error(self, X, Y):\n",
    "        total_error = 0\n",
    "        for x, y in zip(X, Y):\n",
    "            pred = self.sigmoid(x)\n",
    "            total_error += 0.5 * (pred - y) ** 2\n",
    "        return total_error\n",
    "\n",
    "\n",
    "    def grad_w(self, x, y):\n",
    "        pred = self.sigmoid(x)\n",
    "        return (pred - y) * pred * (1 - pred) * x\n",
    "\n",
    " \n",
    "    def grad_b(self, x, y):\n",
    "        pred = self.sigmoid(x)\n",
    "        return (pred - y) * pred * (1 - pred)\n",
    "\n",
    "    def fit(self, X, Y, epochs=100, learning_rate=0.01):\n",
    "\n",
    "        for i in range(epochs):\n",
    "            dw_total = 0\n",
    "            db_total = 0\n",
    "            \n",
    "           \n",
    "            for x, y in zip(X, Y):\n",
    "                dw_total += self.grad_w(x, y)\n",
    "                db_total += self.grad_b(x, y)\n",
    "              \n",
    "            self.w -= learning_rate * dw_total / len(X)\n",
    "            self.b -= learning_rate * db_total / len(X)\n",
    "            \n",
    "      \n",
    "            self.w_history.append(self.w)\n",
    "            self.b_history.append(self.b)\n",
    "            self.error_history.append(self.compute_error(X, Y))\n",
    "\n",
    "   \n",
    "    def predict(self, X):\n",
    "        preds = []\n",
    "        for x in X:\n",
    "            preds.append(self.sigmoid(x))\n",
    "        return np.array(preds)\n",
    "\n",
    "    def plot_progress(self):\n",
    "        plt.figure(figsize=(10,5))\n",
    "        plt.plot(self.error_history, label='Error', color='red')\n",
    "        plt.plot(self.w_history, label='Weight', color='blue')\n",
    "        plt.plot(self.b_history, label='Bias', color='green')\n",
    "        plt.xlabel('Epochs')\n",
    "        plt.ylabel('Values')\n",
    "        plt.legend()\n",
    "        plt.show()\n"
   ]
  },
  {
   "cell_type": "code",
   "execution_count": null,
   "id": "ab04fc89",
   "metadata": {},
   "outputs": [
    {
     "data": {
      "image/png": "[encoded data removed]",
      "text/plain": [
       "<Figure size 1000x500 with 1 Axes>"
      ]
     },
     "metadata": {},
     "output_type": "display_data"
    },
    {
     "name": "stdout",
     "output_type": "stream",
     "text": [
      "Predictions: [0.99998536 0.99043618 0.99997283 0.44948212 0.99909809 0.94727316]\n"
     ]
    }
   ],
   "source": [
    "X = np.array([3.5, 0.35, 3.2, -2.0, 1.5, -0.5])\n",
    "Y = np.array([0.5, 0.5, 0.5, 0.5, 0.1, 0.3])\n",
    "\n",
    "\n",
    "neuron = SimpleNeuron(w_init=2.1, b_init=4.0)\n",
    "\n",
    "neuron.fit(X, Y, epochs=200, learning_rate=0.1)\n",
    "\n",
    "\n",
    "\n",
    "neuron.plot_progress()\n",
    "\n",
    "\n",
    "preds = neuron.predict(X)\n",
    "print(\"Predictions:\", preds)\n"
   ]
  }
 ],
 "metadata": {
  "kernelspec": {
   "display_name": "Python 3",
   "language": "python",
   "name": "python3"
  },
  "language_info": {
   "codemirror_mode": {
    "name": "ipython",
    "version": 3
   },
   "file_extension": ".py",
   "mimetype": "text/x-python",
   "name": "python",
   "nbconvert_exporter": "python",
   "pygments_lexer": "ipython3",
   "version": "3.13.7"
  }
 },
 "nbformat": 4,
 "nbformat_minor": 5
}
