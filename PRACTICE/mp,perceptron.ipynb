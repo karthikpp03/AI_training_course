{
 "cells": [
  {
   "cell_type": "markdown",
   "id": "f1b81ff3",
   "metadata": {},
   "source": [
    "# MP Neuron"
   ]
  },
  {
   "cell_type": "code",
   "execution_count": 24,
   "id": "ebc76123",
   "metadata": {},
   "outputs": [],
   "source": [
    "import pandas as pd\n",
    "import numpy as np\n",
    "from sklearn.model_selection import train_test_split\n",
    "from sklearn.preprocessing import StandardScaler\n",
    "from sklearn.metrics import accuracy_score, classification_report\n",
    "import re"
   ]
  },
  {
   "cell_type": "code",
   "execution_count": 9,
   "id": "3ead16dc",
   "metadata": {},
   "outputs": [],
   "source": [
    "train = pd.read_csv(r\"D:\\git\\PRACTICE\\DATA\\train.csv\")\n",
    "test = pd.read_csv(r\"D:\\git\\PRACTICE\\DATA\\test.csv\")"
   ]
  },
  {
   "cell_type": "code",
   "execution_count": 10,
   "id": "8b2f417f",
   "metadata": {},
   "outputs": [],
   "source": [
    "features = [\"RAM\", \"Capacity\", \"Pixel Density\", \"Internal Memory\"]\n",
    "target = \"Rating\""
   ]
  },
  {
   "cell_type": "code",
   "execution_count": 25,
   "id": "ce148f21",
   "metadata": {},
   "outputs": [],
   "source": [
    "# Function to extract numbers from text\n",
    "def extract_number(value):\n",
    "    if pd.isnull(value):\n",
    "        return np.nan\n",
    "    value = str(value)\n",
    "\n",
    "    match = re.search(r'\\d+', value.replace(',', ''))\n",
    "    if match:\n",
    "        return float(match.group())\n",
    "    return np.nan\n",
    "\n"
   ]
  },
  {
   "cell_type": "code",
   "execution_count": null,
   "id": "f9ac571b",
   "metadata": {},
   "outputs": [],
   "source": [
    "for col in features:\n",
    "    train[col] = train[col].apply(extract_number)\n",
    "    test[col] = test[col].apply(extract_number)\n"
   ]
  },
  {
   "cell_type": "code",
   "execution_count": null,
   "id": "d2a4b6f4",
   "metadata": {},
   "outputs": [],
   "source": [
    "for col in features:\n",
    "    train[col] = train[col].fillna(train[col].median())\n",
    "    test[col] = test[col].fillna(train[col].median())\n",
    "    \n",
    "  # use train median"
   ]
  },
  {
   "cell_type": "code",
   "execution_count": 15,
   "id": "aa6ea636",
   "metadata": {},
   "outputs": [],
   "source": [
    "train[\"target\"] = (train[\"Rating\"] > 4.5).astype(int)"
   ]
  },
  {
   "cell_type": "code",
   "execution_count": 16,
   "id": "c20ddbd5",
   "metadata": {},
   "outputs": [],
   "source": [
    "X_train = train[features].values\n",
    "y_train = train[\"target\"].values\n",
    "X_test = test[features].values"
   ]
  },
  {
   "cell_type": "code",
   "execution_count": 17,
   "id": "fd99c7f7",
   "metadata": {},
   "outputs": [],
   "source": [
    "X_train = X_train / X_train.max(axis=0)\n",
    "X_test = X_test / X_train.max(axis=0)"
   ]
  },
  {
   "cell_type": "code",
   "execution_count": 18,
   "id": "18b9bfa7",
   "metadata": {},
   "outputs": [],
   "source": [
    "class MPNeuron:\n",
    "    def __init__(self, input_size, threshold=0.5):\n",
    "        self.weights = np.random.rand(input_size)\n",
    "        self.threshold = threshold\n",
    "\n",
    "    def predict(self, X):\n",
    "        linear_output = np.dot(X, self.weights)\n",
    "        return (linear_output > self.threshold).astype(int)\n",
    "\n",
    "mp_neuron = MPNeuron(X_train.shape[1])"
   ]
  },
  {
   "cell_type": "code",
   "execution_count": 19,
   "id": "baa755e5",
   "metadata": {},
   "outputs": [],
   "source": [
    "# Predictions\n",
    "y_pred_train = mp_neuron.predict(X_train)\n",
    "y_pred_test = mp_neuron.predict(X_test)"
   ]
  },
  {
   "cell_type": "code",
   "execution_count": 20,
   "id": "f00ea8a2",
   "metadata": {},
   "outputs": [
    {
     "name": "stdout",
     "output_type": "stream",
     "text": [
      "MP Neuron Train Accuracy: 0.9408450704225352\n"
     ]
    }
   ],
   "source": [
    "train_acc = np.mean(y_pred_train == y_train)\n",
    "print(\"MP Neuron Train Accuracy:\", train_acc)"
   ]
  },
  {
   "cell_type": "code",
   "execution_count": 21,
   "id": "bf59c55f",
   "metadata": {},
   "outputs": [
    {
     "name": "stdout",
     "output_type": "stream",
     "text": [
      "MP Neuron Test Predictions (first 10 rows): [1 1 1 1 1 1 1 1 1 1]\n"
     ]
    }
   ],
   "source": [
    "print(\"MP Neuron Test Predictions (first 10 rows):\", y_pred_test[:10])"
   ]
  },
  {
   "cell_type": "code",
   "execution_count": null,
   "id": "66c320ed",
   "metadata": {},
   "outputs": [],
   "source": [
    "'''output = pd.DataFrame({\n",
    "    \"PhoneId\": test[\"PhoneId\"],\n",
    "    \"Class\": y_pred_test\n",
    "})\n",
    "output.to_excel(r\"D:\\git\\PRACTICE\\DATA\\OUTPUT\\mp_neuron_test_predictions.xlsx\", index=False)\n",
    "print(\"Test predictions saved to mp_neuron_test_predictions.xlsx\")'''\n",
    "\n",
    "# final \n",
    "# Random weights\n",
    "# Fixed threshold\n",
    "# No learning from y_train"
   ]
  },
  {
   "cell_type": "markdown",
   "id": "97ed5636",
   "metadata": {},
   "source": [
    "# PERCEPTRON"
   ]
  },
  {
   "cell_type": "code",
   "execution_count": null,
   "id": "18eb9e8b",
   "metadata": {},
   "outputs": [],
   "source": [
    "class Perceptron:\n",
    "    def __init__(self, input_size, lr=0.01, epochs=1000):\n",
    "        self.weights = np.zeros(input_size)\n",
    "        self.bias = 0\n",
    "        self.lr = lr\n",
    "        self.epochs = epochs\n",
    "\n",
    "    def activation(self, x):\n",
    "        return np.where(x > 0, 1, 0)\n",
    "\n",
    "    def fit(self, X, y):\n",
    "        for _ in range(self.epochs):\n",
    "            for xi, target in zip(X, y):\n",
    "                linear_output = np.dot(xi, self.weights) + self.bias\n",
    "                y_pred = self.activation(linear_output)\n",
    "                error = target - y_pred\n",
    "                # Update rule\n",
    "                self.weights += self.lr * error * xi\n",
    "                self.bias += self.lr * error\n",
    "\n",
    "    def predict(self, X):\n",
    "        linear_output = np.dot(X, self.weights) + self.bias\n",
    "        return self.activation(linear_output)\n",
    "    \n",
    "\n",
    "# Starts with zero weights\n",
    "\n",
    "# Updates weights using training data\n",
    "\n",
    "# Learns gradually → train accuracy improves"
   ]
  },
  {
   "cell_type": "code",
   "execution_count": 27,
   "id": "07d5c343",
   "metadata": {},
   "outputs": [],
   "source": [
    "perceptron = Perceptron(X_train.shape[1], lr=0.01, epochs=1000)\n",
    "perceptron.fit(X_train, y_train)\n",
    "\n",
    "y_pred_train = perceptron.predict(X_train)\n",
    "y_pred_test = perceptron.predict(X_test)"
   ]
  },
  {
   "cell_type": "code",
   "execution_count": 28,
   "id": "98896f84",
   "metadata": {},
   "outputs": [
    {
     "name": "stdout",
     "output_type": "stream",
     "text": [
      "Perceptron Train Accuracy: 0.9577464788732394\n"
     ]
    }
   ],
   "source": [
    "train_acc = np.mean(y_pred_train == y_train)\n",
    "print(\"Perceptron Train Accuracy:\", train_acc)\n"
   ]
  },
  {
   "cell_type": "code",
   "execution_count": null,
   "id": "4eda6b82",
   "metadata": {},
   "outputs": [
    {
     "name": "stdout",
     "output_type": "stream",
     "text": [
      "Perceptron Test Predictions (first 10 rows): [1 1 1 1 1 1 1 1 1 1]\n",
      "Test predictions saved to perceptron_test_predictions.xlsx\n"
     ]
    }
   ],
   "source": [
    "'''print(\"Perceptron Test Predictions (first 10 rows):\", y_pred_test[:10])\n",
    "output = pd.DataFrame({\n",
    "    \"PhoneId\": test[\"PhoneId\"],\n",
    "    \"Class\": y_pred_test\n",
    "})\n",
    "output.to_excel(r\"D:\\git\\PRACTICE\\DATA\\OUTPUT\\perceptron_test_predictions.xlsx\", index=False)\n",
    "print(\"Test predictions saved to perceptron_test_predictions.xlsx\")'''"
   ]
  },
  {
   "cell_type": "markdown",
   "id": "3f493f57",
   "metadata": {},
   "source": [
    "# SIGMOID"
   ]
  },
  {
   "cell_type": "code",
   "execution_count": 35,
   "id": "c44e93d1",
   "metadata": {},
   "outputs": [],
   "source": [
    "features = [\n",
    "    \"RAM\", \"Capacity\", \"Pixel Density\", \"Internal Memory\",\n",
    "    \"Height\", \"Width\", \"Screen Size\", \"Weight\"\n",
    "]"
   ]
  },
  {
   "cell_type": "code",
   "execution_count": 53,
   "id": "309c431f",
   "metadata": {},
   "outputs": [],
   "source": [
    "def extract_number(series):\n",
    "    # Extract numbers from strings and convert to float\n",
    "    return series.astype(str).str.extract(r'([\\d.]+)')[0].astype(float)\n",
    "\n",
    "for col in [\"Capacity\", \"Internal Memory\", \"Screen Size\", \"Weight\"]:\n",
    "    train[col] = extract_number(train[col])\n",
    "    test[col] = extract_number(test[col])"
   ]
  },
  {
   "cell_type": "code",
   "execution_count": 54,
   "id": "c3df0257",
   "metadata": {},
   "outputs": [
    {
     "name": "stderr",
     "output_type": "stream",
     "text": [
      "c:\\Users\\ERS1397\\AppData\\Local\\Programs\\Python\\Python313\\Lib\\site-packages\\numpy\\lib\\_nanfunctions_impl.py:1215: RuntimeWarning: Mean of empty slice\n",
      "  return np.nanmean(a, axis, out=out, keepdims=keepdims)\n",
      "c:\\Users\\ERS1397\\AppData\\Local\\Programs\\Python\\Python313\\Lib\\site-packages\\numpy\\lib\\_nanfunctions_impl.py:1215: RuntimeWarning: Mean of empty slice\n",
      "  return np.nanmean(a, axis, out=out, keepdims=keepdims)\n"
     ]
    }
   ],
   "source": [
    "for col in features:\n",
    "    train[col] = train[col].fillna(train[col].median())\n",
    "    test[col] = test[col].fillna(train[col].median())\n"
   ]
  },
  {
   "cell_type": "code",
   "execution_count": 55,
   "id": "a1b37c63",
   "metadata": {},
   "outputs": [],
   "source": [
    "\n",
    "train[\"target\"] = (train[\"Rating\"] > 4.5).astype(int)\n"
   ]
  },
  {
   "cell_type": "code",
   "execution_count": 56,
   "id": "c7057aa1",
   "metadata": {},
   "outputs": [],
   "source": [
    "train_majority = train[train.target == 0]\n",
    "train_minority = train[train.target == 1]\n",
    "\n",
    "train_minority_upsampled = resample(train_minority,\n",
    "                                    replace=True,\n",
    "                                    n_samples=len(train_majority),\n",
    "                                    random_state=42)\n",
    "\n",
    "train_balanced = pd.concat([train_majority, train_minority_upsampled])\n",
    "X_train = train_balanced[features].values\n",
    "y_train = train_balanced[\"target\"].values\n",
    "X_test = test[features].values"
   ]
  },
  {
   "cell_type": "code",
   "execution_count": 61,
   "id": "c68e3379",
   "metadata": {},
   "outputs": [],
   "source": [
    "X_train = X_train / X_train.max(axis=0)\n",
    "X_test = X_test / X_train.max(axis=0)"
   ]
  },
  {
   "cell_type": "code",
   "execution_count": 62,
   "id": "54e372f9",
   "metadata": {},
   "outputs": [],
   "source": [
    "class SigmoidNeuron:\n",
    "    def __init__(self, input_size, lr=0.1, epochs=1000):\n",
    "        self.weights = np.random.rand(input_size)\n",
    "        self.bias = 0\n",
    "        self.lr = lr\n",
    "        self.epochs = epochs\n",
    "\n",
    "    def sigmoid(self, z):\n",
    "        return 1 / (1 + np.exp(-z))\n",
    "\n",
    "    def fit(self, X, y):\n",
    "        for _ in range(self.epochs):\n",
    "            z = np.dot(X, self.weights) + self.bias\n",
    "            y_pred = self.sigmoid(z)\n",
    "            error = y - y_pred\n",
    "            # Gradient descent\n",
    "            self.weights += self.lr * np.dot(X.T, error)\n",
    "            self.bias += self.lr * error.mean()\n",
    "\n",
    "    def predict_proba(self, X):\n",
    "        z = np.dot(X, self.weights) + self.bias\n",
    "        return self.sigmoid(z)\n",
    "\n",
    "    def predict(self, X, threshold=0.5):\n",
    "        probs = self.predict_proba(X)\n",
    "        return (probs > threshold).astype(int)"
   ]
  },
  {
   "cell_type": "code",
   "execution_count": null,
   "id": "585fb618",
   "metadata": {},
   "outputs": [],
   "source": [
    "sig_neuron = SigmoidNeuron(X_train.shape[1], lr=0.1, epochs=1000)\n",
    "sig_neuron.fit(X_train, y_train)\n",
    "\n",
    "y_prob_train = sig_neuron.predict_proba(X_train)\n",
    "y_pred_train = sig_neuron.predict(X_train, threshold=0.9)\n",
    "y_prob_test = sig_neuron.predict_proba(X_test)\n",
    "y_pred_test = sig_neuron.predict(X_test, threshold=0.9)"
   ]
  },
  {
   "cell_type": "code",
   "execution_count": 71,
   "id": "896bbff2",
   "metadata": {},
   "outputs": [
    {
     "name": "stdout",
     "output_type": "stream",
     "text": [
      "Sigmoid Neuron Train Accuracy: 0.5\n"
     ]
    }
   ],
   "source": [
    "train_acc = np.mean(y_pred_train == y_train)\n",
    "print(\"Sigmoid Neuron Train Accuracy:\", train_acc)\n"
   ]
  },
  {
   "cell_type": "code",
   "execution_count": 72,
   "id": "04206c7e",
   "metadata": {},
   "outputs": [
    {
     "name": "stdout",
     "output_type": "stream",
     "text": [
      "Test predictions saved to sigmoid_neuron_test_predictions.xlsx\n"
     ]
    }
   ],
   "source": [
    "output = pd.DataFrame({\n",
    "    \"PhoneId\": test[\"PhoneId\"],\n",
    "    \"Probability\": y_prob_test,\n",
    "    \"Class\": y_pred_test\n",
    "})\n",
    "output.to_excel(r\"D:\\git\\PRACTICE\\DATA\\OUTPUT\\sigmoid_test_predictions.xlsx\", index=False)\n",
    "print(\"Test predictions saved to sigmoid_neuron_test_predictions.xlsx\")"
   ]
  }
 ],
 "metadata": {
  "kernelspec": {
   "display_name": "Python 3",
   "language": "python",
   "name": "python3"
  },
  "language_info": {
   "codemirror_mode": {
    "name": "ipython",
    "version": 3
   },
   "file_extension": ".py",
   "mimetype": "text/x-python",
   "name": "python",
   "nbconvert_exporter": "python",
   "pygments_lexer": "ipython3",
   "version": "3.13.7"
  }
 },
 "nbformat": 4,
 "nbformat_minor": 5
}
