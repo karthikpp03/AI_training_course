{
 "cells": [
  {
   "cell_type": "markdown",
   "id": "f1b81ff3",
   "metadata": {},
   "source": [
    "# MP Neuron"
   ]
  },
  {
   "cell_type": "code",
   "execution_count": 1,
   "id": "ebc76123",
   "metadata": {},
   "outputs": [],
   "source": [
    "import pandas as pd\n",
    "import numpy as np\n",
    "from sklearn.model_selection import train_test_split\n",
    "from sklearn.preprocessing import StandardScaler\n",
    "from sklearn.metrics import accuracy_score, classification_report\n",
    "import re"
   ]
  },
  {
   "cell_type": "code",
   "execution_count": 2,
   "id": "3ead16dc",
   "metadata": {},
   "outputs": [],
   "source": [
    "train = pd.read_csv(r\"D:\\git\\PRACTICE\\DATA\\train.csv\")\n",
    "test = pd.read_csv(r\"D:\\git\\PRACTICE\\DATA\\test.csv\")"
   ]
  },
  {
   "cell_type": "code",
   "execution_count": 8,
   "id": "8b2f417f",
   "metadata": {},
   "outputs": [],
   "source": [
    "features = [\"RAM\", \"Capacity\", \"Pixel Density\", \"Internal Memory\"]\n",
    "target = \"Rating\""
   ]
  },
  {
   "cell_type": "code",
   "execution_count": 9,
   "id": "ce148f21",
   "metadata": {},
   "outputs": [],
   "source": [
    "# Function to extract numbers from text\n",
    "def extract_number(value):\n",
    "    if pd.isnull(value):\n",
    "        return np.nan\n",
    "    value = str(value)\n",
    "\n",
    "    match = re.search(r'\\d+', value.replace(',', ''))\n",
    "    if match:\n",
    "        return float(match.group())\n",
    "    return np.nan\n",
    "\n"
   ]
  },
  {
   "cell_type": "code",
   "execution_count": 10,
   "id": "f9ac571b",
   "metadata": {},
   "outputs": [],
   "source": [
    "for col in features:\n",
    "    train[col] = train[col].apply(extract_number)\n",
    "    test[col] = test[col].apply(extract_number)\n"
   ]
  },
  {
   "cell_type": "code",
   "execution_count": 11,
   "id": "d2a4b6f4",
   "metadata": {},
   "outputs": [],
   "source": [
    "for col in features:\n",
    "    train[col] = train[col].fillna(train[col].median())\n",
    "    test[col] = test[col].fillna(train[col].median())\n",
    "    \n",
    "  # use train median"
   ]
  },
  {
   "cell_type": "code",
   "execution_count": 12,
   "id": "aa6ea636",
   "metadata": {},
   "outputs": [],
   "source": [
    "train[\"target\"] = (train[\"Rating\"] > 4.5).astype(int)"
   ]
  },
  {
   "cell_type": "code",
   "execution_count": 13,
   "id": "c20ddbd5",
   "metadata": {},
   "outputs": [],
   "source": [
    "X_train = train[features].values\n",
    "y_train = train[\"target\"].values\n",
    "X_test = test[features].values"
   ]
  },
  {
   "cell_type": "code",
   "execution_count": 14,
   "id": "fd99c7f7",
   "metadata": {},
   "outputs": [],
   "source": [
    "X_train = X_train / X_train.max(axis=0)\n",
    "X_test = X_test / X_train.max(axis=0)"
   ]
  },
  {
   "cell_type": "code",
   "execution_count": 15,
   "id": "18b9bfa7",
   "metadata": {},
   "outputs": [],
   "source": [
    "class MPNeuron:\n",
    "    def __init__(self, input_size, threshold=0.5):\n",
    "        self.weights = np.random.rand(input_size)\n",
    "        self.threshold = threshold\n",
    "\n",
    "    def predict(self, X):\n",
    "        linear_output = np.dot(X, self.weights)\n",
    "        return (linear_output > self.threshold).astype(int)\n",
    "\n",
    "mp_neuron = MPNeuron(X_train.shape[1])"
   ]
  },
  {
   "cell_type": "code",
   "execution_count": 16,
   "id": "baa755e5",
   "metadata": {},
   "outputs": [],
   "source": [
    "# Predictions\n",
    "y_pred_train = mp_neuron.predict(X_train)\n",
    "y_pred_test = mp_neuron.predict(X_test)"
   ]
  },
  {
   "cell_type": "code",
   "execution_count": 18,
   "id": "f00ea8a2",
   "metadata": {},
   "outputs": [
    {
     "name": "stdout",
     "output_type": "stream",
     "text": [
      "MP Neuron Train Accuracy: 0.27887323943661974\n"
     ]
    }
   ],
   "source": [
    "train_acc = np.mean(y_pred_train == y_train)\n",
    "print(\"MP Neuron Train Accuracy:\", train_acc)"
   ]
  },
  {
   "cell_type": "code",
   "execution_count": 19,
   "id": "bf59c55f",
   "metadata": {},
   "outputs": [
    {
     "name": "stdout",
     "output_type": "stream",
     "text": [
      "MP Neuron Test Predictions (first 10 rows): [1 1 1 1 1 1 1 1 1 1]\n"
     ]
    }
   ],
   "source": [
    "print(\"MP Neuron Test Predictions (first 10 rows):\", y_pred_test[:10])"
   ]
  },
  {
   "cell_type": "code",
   "execution_count": null,
   "id": "66c320ed",
   "metadata": {},
   "outputs": [],
   "source": [
    "'''output = pd.DataFrame({\n",
    "    \"PhoneId\": test[\"PhoneId\"],\n",
    "    \"Class\": y_pred_test\n",
    "})\n",
    "output.to_excel(r\"D:\\git\\PRACTICE\\DATA\\OUTPUT\\mp_neuron_test_predictions.xlsx\", index=False)\n",
    "print(\"Test predictions saved to mp_neuron_test_predictions.xlsx\")'''\n",
    "\n",
    "# final \n",
    "# Random weights\n",
    "# Fixed threshold\n",
    "# No learning from y_train"
   ]
  },
  {
   "cell_type": "markdown",
   "id": "97ed5636",
   "metadata": {},
   "source": [
    "# PERCEPTRON"
   ]
  },
  {
   "cell_type": "code",
   "execution_count": 20,
   "id": "18eb9e8b",
   "metadata": {},
   "outputs": [],
   "source": [
    "class Perceptron:\n",
    "    def __init__(self, input_size, lr=0.01, epochs=1000):\n",
    "        self.weights = np.zeros(input_size)\n",
    "        self.bias = 0\n",
    "        self.lr = lr\n",
    "        self.epochs = epochs\n",
    "\n",
    "    def activation(self, x):\n",
    "        return np.where(x > 0, 1, 0)\n",
    "\n",
    "    def fit(self, X, y):\n",
    "        for _ in range(self.epochs):\n",
    "            for xi, target in zip(X, y):\n",
    "                linear_output = np.dot(xi, self.weights) + self.bias\n",
    "                y_pred = self.activation(linear_output)\n",
    "                error = target - y_pred\n",
    "                # Update rule\n",
    "                self.weights += self.lr * error * xi\n",
    "                self.bias += self.lr * error\n",
    "\n",
    "    def predict(self, X):\n",
    "        linear_output = np.dot(X, self.weights) + self.bias\n",
    "        return self.activation(linear_output)\n",
    "    \n",
    "\n",
    "# Starts with zero weights\n",
    "\n",
    "# Updates weights using training data\n",
    "\n",
    "# Learns gradually → train accuracy improves"
   ]
  },
  {
   "cell_type": "code",
   "execution_count": 21,
   "id": "07d5c343",
   "metadata": {},
   "outputs": [],
   "source": [
    "perceptron = Perceptron(X_train.shape[1], lr=0.01, epochs=1000)\n",
    "perceptron.fit(X_train, y_train)\n",
    "\n",
    "y_pred_train = perceptron.predict(X_train)\n",
    "y_pred_test = perceptron.predict(X_test)"
   ]
  },
  {
   "cell_type": "code",
   "execution_count": 22,
   "id": "98896f84",
   "metadata": {},
   "outputs": [
    {
     "name": "stdout",
     "output_type": "stream",
     "text": [
      "Perceptron Train Accuracy: 0.9577464788732394\n"
     ]
    }
   ],
   "source": [
    "train_acc = np.mean(y_pred_train == y_train)\n",
    "print(\"Perceptron Train Accuracy:\", train_acc)\n"
   ]
  },
  {
   "cell_type": "code",
   "execution_count": null,
   "id": "4eda6b82",
   "metadata": {},
   "outputs": [
    {
     "name": "stdout",
     "output_type": "stream",
     "text": [
      "Perceptron Test Predictions (first 10 rows): [1 1 1 1 1 1 1 1 1 1]\n",
      "Test predictions saved to perceptron_test_predictions.xlsx\n"
     ]
    }
   ],
   "source": [
    "'''print(\"Perceptron Test Predictions (first 10 rows):\", y_pred_test[:10])\n",
    "output = pd.DataFrame({\n",
    "    \"PhoneId\": test[\"PhoneId\"],\n",
    "    \"Class\": y_pred_test\n",
    "})\n",
    "output.to_excel(r\"D:\\git\\PRACTICE\\DATA\\OUTPUT\\perceptron_test_predictions.xlsx\", index=False)\n",
    "print(\"Test predictions saved to perceptron_test_predictions.xlsx\")'''"
   ]
  },
  {
   "cell_type": "markdown",
   "id": "3f493f57",
   "metadata": {},
   "source": [
    "# SIGMOID"
   ]
  },
  {
   "cell_type": "code",
   "execution_count": null,
   "id": "c44e93d1",
   "metadata": {},
   "outputs": [],
   "source": [
    "features = [\n",
    "    \"RAM\", \"Capacity\", \"Pixel Density\", \"Internal Memory\",\n",
    "    \"Height\", \"Width\", \"Screen Size\", \"Weight\"\n",
    "]"
   ]
  },
  {
   "cell_type": "code",
   "execution_count": 27,
   "id": "309c431f",
   "metadata": {},
   "outputs": [],
   "source": [
    "def extract_number(series):\n",
    "    return series.astype(str).str.extract(r'([\\d.]+)')[0].astype(float)\n",
    "\n",
    "for col in features:\n",
    "    train[col] = extract_number(train[col])\n",
    "    test[col] = extract_number(test[col])\n",
    "    \n",
    "# Fill missing values with median\n",
    "for col in features:\n",
    "    train[col] = train[col].fillna(train[col].median())\n",
    "    test[col] = test[col].fillna(train[col].median())"
   ]
  },
  {
   "cell_type": "code",
   "execution_count": 28,
   "id": "c3df0257",
   "metadata": {},
   "outputs": [],
   "source": [
    "train[\"target\"] = (train[\"Rating\"] > 4.5).astype(int)"
   ]
  },
  {
   "cell_type": "code",
   "execution_count": 31,
   "id": "b7eae0c7",
   "metadata": {},
   "outputs": [],
   "source": [
    "from sklearn.utils import resample\n",
    "\n",
    "train_majority = train[train.target == 0]\n",
    "train_minority = train[train.target == 1]\n",
    "\n",
    "train_minority_upsampled = resample(\n",
    "    train_minority,\n",
    "    replace=True,\n",
    "    n_samples=len(train_majority),\n",
    "    random_state=42\n",
    ")\n",
    "\n",
    "train_balanced = pd.concat([train_majority, train_minority_upsampled])"
   ]
  },
  {
   "cell_type": "code",
   "execution_count": 32,
   "id": "214a443e",
   "metadata": {},
   "outputs": [],
   "source": [
    "X_train = train_balanced[features].values\n",
    "y_train = train_balanced[\"target\"].values\n",
    "X_test = test[features].values\n",
    "\n",
    "# Normalize\n",
    "X_train = X_train / X_train.max(axis=0)\n",
    "X_test = X_test / X_train.max(axis=0)"
   ]
  },
  {
   "cell_type": "code",
   "execution_count": 33,
   "id": "c5a6cce8",
   "metadata": {},
   "outputs": [],
   "source": [
    "class SigmoidNeuron:\n",
    "    def __init__(self, input_size, lr=0.1, epochs=1000):\n",
    "        self.weights = np.random.rand(input_size)\n",
    "        self.bias = 0\n",
    "        self.lr = lr\n",
    "        self.epochs = epochs\n",
    "\n",
    "    def sigmoid(self, z):\n",
    "        return 1 / (1 + np.exp(-z))\n",
    "\n",
    "    def fit(self, X, y):\n",
    "        for _ in range(self.epochs):\n",
    "            z = np.dot(X, self.weights) + self.bias\n",
    "            y_pred = self.sigmoid(z)\n",
    "            error = y - y_pred\n",
    "            # Gradient descent update\n",
    "            self.weights += self.lr * np.dot(X.T, error)\n",
    "            self.bias += self.lr * error.mean()\n",
    "\n",
    "    def predict_proba(self, X):\n",
    "        z = np.dot(X, self.weights) + self.bias\n",
    "        return self.sigmoid(z)\n",
    "\n",
    "    def predict(self, X, threshold=0.5):\n",
    "        probs = self.predict_proba(X)\n",
    "        return (probs > threshold).astype(int)\n"
   ]
  },
  {
   "cell_type": "code",
   "execution_count": 34,
   "id": "e2d6e447",
   "metadata": {},
   "outputs": [],
   "source": [
    "sig_neuron = SigmoidNeuron(X_train.shape[1], lr=0.1, epochs=1000)\n",
    "sig_neuron.fit(X_train, y_train)"
   ]
  },
  {
   "cell_type": "code",
   "execution_count": 35,
   "id": "85a616aa",
   "metadata": {},
   "outputs": [
    {
     "name": "stdout",
     "output_type": "stream",
     "text": [
      "Sigmoid Neuron Train Accuracy: 0.644542772861357\n"
     ]
    }
   ],
   "source": [
    "y_pred_train = sig_neuron.predict(X_train, threshold=0.5)\n",
    "train_acc = np.mean(y_pred_train == y_train)\n",
    "print(\"Sigmoid Neuron Train Accuracy:\", train_acc)"
   ]
  },
  {
   "cell_type": "markdown",
   "id": "d62b9b16",
   "metadata": {},
   "source": [
    "# Sigmoid Image Data"
   ]
  },
  {
   "cell_type": "code",
   "execution_count": null,
   "id": "433db64a",
   "metadata": {},
   "outputs": [],
   "source": [
    "\n",
    "import os\n",
    "import numpy as np\n",
    "import pandas as pd\n",
    "from tensorflow.keras.models import Sequential\n",
    "from tensorflow.keras.layers import Dense, Flatten\n",
    "from tensorflow.keras.preprocessing.image import load_img, img_to_array\n",
    "from sklearn.metrics import accuracy_score, precision_score, recall_score, f1_score, confusion_matrix\n",
    "from sklearn.utils import shuffle"
   ]
  },
  {
   "cell_type": "code",
   "execution_count": null,
   "id": "3bf70712",
   "metadata": {},
   "outputs": [],
   "source": [
    "def load_images_from_folder(folder_paths, label):\n",
    "    X, y = [], []\n",
    "    for folder in folder_paths:\n",
    "        for file in os.listdir(folder):\n",
    "            if file.endswith(\".jpg\") or file.endswith(\".png\"):\n",
    "                img_path = os.path.join(folder, file)\n",
    "                img = load_img(img_path, target_size=(16,16), color_mode='grayscale')\n",
    "                arr = img_to_array(img)/255.0  # normalize\n",
    "                X.append(arr)\n",
    "                y.append(label)\n",
    "    return X, y"
   ]
  },
  {
   "cell_type": "code",
   "execution_count": null,
   "id": "bc503d0c",
   "metadata": {},
   "outputs": [],
   "source": [
    "neg_folders = [r\"D:\\git\\PRACTICE\\DATA\\level_1_train\\level_1\\background\"]\n",
    "pos_folders = [\n",
    "    r\"D:\\git\\PRACTICE\\DATA\\level_1_train\\level_1\\en\",\n",
    "    r\"D:\\git\\PRACTICE\\DATA\\level_1_train\\level_1\\hi\",\n",
    "    r\"D:\\git\\PRACTICE\\DATA\\level_1_train\\level_1\\ta\"\n",
    "]"
   ]
  },
  {
   "cell_type": "code",
   "execution_count": null,
   "id": "6df0f440",
   "metadata": {},
   "outputs": [],
   "source": [
    "\n",
    "def load_images_from_folder(folder_paths, label):\n",
    "\n",
    "X_neg, y_neg = load_images_from_folder(neg_folders, 0)\n",
    "X_pos, y_pos = load_images_from_folder(pos_folders, 1)\n",
    "\n",
    "X = np.array(X_neg + X_pos)\n",
    "y = np.array(y_neg + y_pos)\n",
    "\n",
    "X = X.reshape((X.shape[0], -1))  \n",
    "\n",
    "X, y = shuffle(X, y, random_state=42)"
   ]
  },
  {
   "cell_type": "code",
   "execution_count": null,
   "id": "cfedd9a2",
   "metadata": {},
   "outputs": [],
   "source": [
    "model = Sequential()\n",
    "model.add(Dense(1, activation='sigmoid', input_dim=X.shape[1]))  # single neuron\n",
    "\n",
    "model\n",
    "model.fit(X, y, epochs=100, batch_size=32, verbose=1)"
   ]
  },
  {
   "cell_type": "code",
   "execution_count": null,
   "id": "7a63a1f6",
   "metadata": {},
   "outputs": [],
   "source": [
    "y_pred = (model.predict(X) > 0.5).astype(int).flatten()\n",
    "\n",
    "acc = accuracy_score(y, y_pred)\n",
    "prec = precision_score(y, y_pred, zero_division=0)\n",
    "rec = recall_score(y, y_pred, zero_division=0)\n",
    "f1 = f1_score(y, y_pred, zero_division=0)\n",
    "cm = confusion_matrix(y, y_pred)"
   ]
  },
  {
   "cell_type": "code",
   "execution_count": null,
   "id": "243d4cc9",
   "metadata": {},
   "outputs": [],
   "source": [
    "df_pred = pd.DataFrame({\n",
    "    \"ImageId\": np.arange(len(y_pred)),\n",
    "    \"Prediction\": y_pred\n",
    "})\n",
    "df_pred.to_excel(\"predictions_sigmoid.xlsx\", index=False)\n",
    "print(\"Predictions saved to predictions_sigmoid.xlsx\")"
   ]
  },
  {
   "cell_type": "code",
   "execution_count": null,
   "id": "58007af8",
   "metadata": {},
   "outputs": [],
   "source": [
    "print(\"\\nSigmoid Neuron Metrics:\")\n",
    "print(f\"Accuracy: {acc:.4f}\")\n",
    "print(f\"Precision: {prec:.4f}\")\n",
    "print(f\"Recall: {rec:.4f}\")\n",
    "print(f\"F1-Score: {f1:.4f}\")\n",
    "print(\"Confusion Matrix:\")\n",
    "print(cm)"
   ]
  }
 ],
 "metadata": {
  "kernelspec": {
   "display_name": "Python 3",
   "language": "python",
   "name": "python3"
  },
  "language_info": {
   "codemirror_mode": {
    "name": "ipython",
    "version": 3
   },
   "file_extension": ".py",
   "mimetype": "text/x-python",
   "name": "python",
   "nbconvert_exporter": "python",
   "pygments_lexer": "ipython3",
   "version": "3.13.7"
  }
 },
 "nbformat": 4,
 "nbformat_minor": 5
}
