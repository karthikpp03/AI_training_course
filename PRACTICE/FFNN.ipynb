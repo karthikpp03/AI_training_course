{
 "cells": [
  {
   "cell_type": "code",
   "execution_count": null,
   "id": "39ff01db",
   "metadata": {},
   "outputs": [],
   "source": [
    "import os\n",
    "import numpy as np\n",
    "import pandas as pd\n",
    "from tensorflow.keras.preprocessing.image import load_img, img_to_array\n",
    "from tensorflow.keras.models import Sequential\n",
    "from tensorflow.keras.layers import Dense, Flatten\n",
    "from sklearn.model_selection import train_test_split\n",
    "from tensorflow.keras.utils import to_categorical\n",
    "from tensorflow.keras.optimizers import Adam"
   ]
  },
  {
   "cell_type": "code",
   "execution_count": null,
   "id": "0ba22212",
   "metadata": {},
   "outputs": [],
   "source": [
    "X = []\n",
    "y = []"
   ]
  },
  {
   "cell_type": "code",
   "execution_count": null,
   "id": "59283497",
   "metadata": {},
   "outputs": [],
   "source": [
    "background_folder = r\"D:\\git\\PRACTICE\\DATA\\level_1_train\\level_1\\background\"\n",
    "for file in os.listdir(background_folder):\n",
    "    img_path = os.path.join(background_folder, file)\n",
    "    img = load_img(img_path, target_size=(16,16), color_mode='grayscale')\n",
    "    arr = img_to_array(img)/255.0\n",
    "    X.append(arr)\n",
    "    y.append(0)"
   ]
  },
  {
   "cell_type": "code",
   "execution_count": null,
   "id": "33bf5899",
   "metadata": {},
   "outputs": [],
   "source": [
    "text_folders = [\n",
    "    r\"D:\\git\\PRACTICE\\DATA\\level_1_train\\level_1\\en\",\n",
    "    r\"D:\\git\\PRACTICE\\DATA\\level_1_train\\level_1\\hi\",\n",
    "    r\"D:\\git\\PRACTICE\\DATA\\level_1_train\\level_1\\ta\"\n",
    "]"
   ]
  },
  {
   "cell_type": "code",
   "execution_count": null,
   "id": "e2c8e404",
   "metadata": {},
   "outputs": [],
   "source": [
    "for folder in text_folders:\n",
    "    for file in os.listdir(folder):\n",
    "        img_path = os.path.join(folder, file)\n",
    "        img = load_img(img_path, target_size=(16,16), color_mode='grayscale')\n",
    "        arr = img_to_array(img)/255.0\n",
    "        X.append(arr)\n",
    "        y.append(1)"
   ]
  },
  {
   "cell_type": "code",
   "execution_count": null,
   "id": "cff0ca5f",
   "metadata": {},
   "outputs": [],
   "source": [
    "X = np.array(X)\n",
    "y = np.array(y)\n",
    "\n",
    "X = 1 - X"
   ]
  },
  {
   "cell_type": "code",
   "execution_count": null,
   "id": "ee73a713",
   "metadata": {},
   "outputs": [],
   "source": [
    "X = X.reshape(len(X), -1)\n",
    "print(\"Training data shape:\", X.shape, \"Labels shape:\", y.shape)"
   ]
  },
  {
   "cell_type": "code",
   "execution_count": null,
   "id": "b2e4ac75",
   "metadata": {},
   "outputs": [],
   "source": [
    "X_test = []\n",
    "test_ids = []"
   ]
  },
  {
   "cell_type": "code",
   "execution_count": null,
   "id": "bd464588",
   "metadata": {},
   "outputs": [],
   "source": [
    "test_folder = r\"D:\\git\\PRACTICE\\DATA\\level_1_test\\kaggle_level_1\"\n",
    "for file in os.listdir(test_folder):\n",
    "    img_path = os.path.join(test_folder, file)\n",
    "    img = load_img(img_path, target_size=(16,16), color_mode='grayscale')\n",
    "    arr = img_to_array(img)/255.0\n",
    "    arr = 1 - arr  # invert\n",
    "    X_test.append(arr)\n",
    "    test_ids.append(int(file.split('.')[0]))\n",
    "\n",
    "X_test = np.array(X_test).reshape(len(X_test), -1)\n",
    "print(\"Test data shape:\", X_test.shape)"
   ]
  },
  {
   "cell_type": "code",
   "execution_count": null,
   "id": "0d28db53",
   "metadata": {},
   "outputs": [],
   "source": [
    "model = Sequential([\n",
    "    Dense(128, input_shape=(256,), activation='relu'),\n",
    "    Dense(64, activation='relu'),\n",
    "    Dense(1, activation='sigmoid')  # output probability\n",
    "])\n",
    "\n",
    "model.compile(optimizer=Adam(0.001), loss='binary_crossentropy', metrics=['accuracy'])\n",
    "model.summary()"
   ]
  },
  {
   "cell_type": "code",
   "execution_count": null,
   "id": "9b9a25ff",
   "metadata": {},
   "outputs": [],
   "source": [
    "model.fit(X, y, epochs=100, batch_size=32, validation_split=0.1, verbose=2)"
   ]
  },
  {
   "cell_type": "code",
   "execution_count": null,
   "id": "db904277",
   "metadata": {},
   "outputs": [],
   "source": [
    "y_pred_prob = model.predict(X_test).flatten()\n",
    "y_pred_class = (y_pred_prob >= 0.5).astype(int)"
   ]
  },
  {
   "cell_type": "code",
   "execution_count": null,
   "id": "2c69db6e",
   "metadata": {},
   "outputs": [],
   "source": [
    "df = pd.DataFrame({\n",
    "    'ImageId': test_ids,\n",
    "    'Probability': y_pred_prob,\n",
    "    'Class': y_pred_class\n",
    "})\n",
    "df.to_csv(r\"D:\\git\\PRACTICE\\DATA\\OUTPUT\\ffnn_predictions.csv\", index=False)\n",
    "print(\"Predictions saved to ffnn_predictions.csv\")"
   ]
  },
  {
   "cell_type": "markdown",
   "id": "14dd87c6",
   "metadata": {},
   "source": [
    "# Multi Class"
   ]
  },
  {
   "cell_type": "code",
   "execution_count": null,
   "id": "6b43b9c2",
   "metadata": {},
   "outputs": [],
   "source": [
    "X = []\n",
    "y = []\n",
    "\n",
    "background_folder = r\"D:\\git\\PRACTICE\\DATA\\level_1_train\\level_1\\background\"\n",
    "for file in os.listdir(background_folder):\n",
    "    img_path = os.path.join(background_folder, file)\n",
    "    img = load_img(img_path, target_size=(16,16), color_mode='grayscale')\n",
    "    arr = img_to_array(img)/255.0\n",
    "    X.append(arr)\n",
    "    y.append(0)"
   ]
  },
  {
   "cell_type": "code",
   "execution_count": null,
   "id": "5d8004f5",
   "metadata": {},
   "outputs": [],
   "source": [
    "text_classes = {\n",
    "    1: r\"D:\\git\\PRACTICE\\DATA\\level_1_train\\level_1\\en\",\n",
    "    2: r\"D:\\git\\PRACTICE\\DATA\\level_1_train\\level_1\\hi\",\n",
    "    3: r\"D:\\git\\PRACTICE\\DATA\\level_1_train\\level_1\\ta\"\n",
    "}"
   ]
  },
  {
   "cell_type": "code",
   "execution_count": null,
   "id": "fc92c0ce",
   "metadata": {},
   "outputs": [],
   "source": [
    "for label, folder in text_classes.items():\n",
    "    for file in os.listdir(folder):\n",
    "        img_path = os.path.join(folder, file)\n",
    "        img = load_img(img_path, target_size=(16,16), color_mode='grayscale')\n",
    "        arr = img_to_array(img)/255.0\n",
    "        X.append(arr)\n",
    "        y.append(label)"
   ]
  },
  {
   "cell_type": "code",
   "execution_count": null,
   "id": "49d2714f",
   "metadata": {},
   "outputs": [],
   "source": [
    "X = np.array(X)\n",
    "y = np.array(y)\n",
    "\n",
    "X = 1 - X"
   ]
  },
  {
   "cell_type": "code",
   "execution_count": null,
   "id": "022637b7",
   "metadata": {},
   "outputs": [],
   "source": [
    "\n",
    "X = X.reshape(len(X), -1)\n",
    "\n",
    "y_cat = to_categorical(y, num_classes=4)\n",
    "\n",
    "print(\"Training shape:\", X.shape, \"Labels shape:\", y_cat.shape)"
   ]
  },
  {
   "cell_type": "code",
   "execution_count": null,
   "id": "64b49a90",
   "metadata": {},
   "outputs": [],
   "source": [
    "X_test = []\n",
    "test_ids = []"
   ]
  },
  {
   "cell_type": "code",
   "execution_count": null,
   "id": "e102d270",
   "metadata": {},
   "outputs": [],
   "source": [
    "test_folder = r\"D:\\git\\PRACTICE\\DATA\\level_1_test\\kaggle_level_1\"\n",
    "for file in os.listdir(test_folder):\n",
    "    img_path = os.path.join(test_folder, file)\n",
    "    img = load_img(img_path, target_size=(16,16), color_mode='grayscale')\n",
    "    arr = img_to_array(img)/255.0\n",
    "    arr = 1 - arr\n",
    "    X_test.append(arr)\n",
    "    test_ids.append(int(file.split('.')[0]))\n",
    "\n",
    "X_test = np.array(X_test).reshape(len(X_test), -1)\n",
    "print(\"Test shape:\", X_test.shape)"
   ]
  },
  {
   "cell_type": "code",
   "execution_count": null,
   "id": "c3ad3129",
   "metadata": {},
   "outputs": [],
   "source": [
    "model = Sequential([\n",
    "    Dense(128, input_shape=(256,), activation='relu'),\n",
    "    Dense(64, activation='relu'),\n",
    "    Dense(4, activation='softmax')  # multi-class output\n",
    "])\n",
    "\n",
    "model.compile(optimizer=Adam(0.001), loss='categorical_crossentropy', metrics=['accuracy'])\n",
    "model.summary()"
   ]
  },
  {
   "cell_type": "code",
   "execution_count": null,
   "id": "03374425",
   "metadata": {},
   "outputs": [],
   "source": [
    "model.fit(X, y_cat, epochs=100, batch_size=32, validation_split=0.1, verbose=2)"
   ]
  },
  {
   "cell_type": "code",
   "execution_count": null,
   "id": "843e7b54",
   "metadata": {},
   "outputs": [],
   "source": [
    "y_pred_prob = model.predict(X_test)\n",
    "y_pred_class = np.argmax(y_pred_prob, axis=1)"
   ]
  },
  {
   "cell_type": "code",
   "execution_count": null,
   "id": "b7784476",
   "metadata": {},
   "outputs": [],
   "source": [
    "df = pd.DataFrame({\n",
    "    'ImageId': test_ids,\n",
    "    'Class': y_pred_class\n",
    "})\n",
    "df.to_csv(r\"D:\\git\\PRACTICE\\DATA\\OUTPUT\\MULTI_ffnn_predictions.csv\", index=False)\n",
    "print(\"Predictions saved to ffnn_multiclass_predictions.csv\")"
   ]
  },
  {
   "cell_type": "code",
   "execution_count": 4,
   "id": "04a1716c",
   "metadata": {},
   "outputs": [
    {
     "name": "stderr",
     "output_type": "stream",
     "text": [
      "<>:5: SyntaxWarning: invalid escape sequence '\\g'\n",
      "<>:5: SyntaxWarning: invalid escape sequence '\\g'\n",
      "C:\\Users\\ERS1397\\AppData\\Local\\Temp\\ipykernel_13400\\1133099742.py:5: SyntaxWarning: invalid escape sequence '\\g'\n",
      "  with open(\"D:\\git\\conversion\\gd.py\", \"r\", encoding=\"utf-8\") as f:\n",
      "C:\\Users\\ERS1397\\AppData\\Local\\Temp\\ipykernel_13400\\1133099742.py:5: SyntaxWarning: invalid escape sequence '\\g'\n",
      "  with open(\"D:\\git\\conversion\\gd.py\", \"r\", encoding=\"utf-8\") as f:\n"
     ]
    },
    {
     "ename": "NotJSONError",
     "evalue": "Notebook does not appear to be JSON: ''",
     "output_type": "error",
     "traceback": [
      "\u001b[31m---------------------------------------------------------------------------\u001b[39m",
      "\u001b[31mJSONDecodeError\u001b[39m                           Traceback (most recent call last)",
      "\u001b[36mFile \u001b[39m\u001b[32mc:\\Users\\ERS1397\\AppData\\Local\\Programs\\Python\\Python313\\Lib\\site-packages\\nbformat\\reader.py:19\u001b[39m, in \u001b[36mparse_json\u001b[39m\u001b[34m(s, **kwargs)\u001b[39m\n\u001b[32m     18\u001b[39m \u001b[38;5;28;01mtry\u001b[39;00m:\n\u001b[32m---> \u001b[39m\u001b[32m19\u001b[39m     nb_dict = \u001b[43mjson\u001b[49m\u001b[43m.\u001b[49m\u001b[43mloads\u001b[49m\u001b[43m(\u001b[49m\u001b[43ms\u001b[49m\u001b[43m,\u001b[49m\u001b[43m \u001b[49m\u001b[43m*\u001b[49m\u001b[43m*\u001b[49m\u001b[43mkwargs\u001b[49m\u001b[43m)\u001b[49m\n\u001b[32m     20\u001b[39m \u001b[38;5;28;01mexcept\u001b[39;00m \u001b[38;5;167;01mValueError\u001b[39;00m \u001b[38;5;28;01mas\u001b[39;00m e:\n",
      "\u001b[36mFile \u001b[39m\u001b[32mc:\\Users\\ERS1397\\AppData\\Local\\Programs\\Python\\Python313\\Lib\\json\\__init__.py:346\u001b[39m, in \u001b[36mloads\u001b[39m\u001b[34m(s, cls, object_hook, parse_float, parse_int, parse_constant, object_pairs_hook, **kw)\u001b[39m\n\u001b[32m    343\u001b[39m \u001b[38;5;28;01mif\u001b[39;00m (\u001b[38;5;28mcls\u001b[39m \u001b[38;5;129;01mis\u001b[39;00m \u001b[38;5;28;01mNone\u001b[39;00m \u001b[38;5;129;01mand\u001b[39;00m object_hook \u001b[38;5;129;01mis\u001b[39;00m \u001b[38;5;28;01mNone\u001b[39;00m \u001b[38;5;129;01mand\u001b[39;00m\n\u001b[32m    344\u001b[39m         parse_int \u001b[38;5;129;01mis\u001b[39;00m \u001b[38;5;28;01mNone\u001b[39;00m \u001b[38;5;129;01mand\u001b[39;00m parse_float \u001b[38;5;129;01mis\u001b[39;00m \u001b[38;5;28;01mNone\u001b[39;00m \u001b[38;5;129;01mand\u001b[39;00m\n\u001b[32m    345\u001b[39m         parse_constant \u001b[38;5;129;01mis\u001b[39;00m \u001b[38;5;28;01mNone\u001b[39;00m \u001b[38;5;129;01mand\u001b[39;00m object_pairs_hook \u001b[38;5;129;01mis\u001b[39;00m \u001b[38;5;28;01mNone\u001b[39;00m \u001b[38;5;129;01mand\u001b[39;00m \u001b[38;5;129;01mnot\u001b[39;00m kw):\n\u001b[32m--> \u001b[39m\u001b[32m346\u001b[39m     \u001b[38;5;28;01mreturn\u001b[39;00m \u001b[43m_default_decoder\u001b[49m\u001b[43m.\u001b[49m\u001b[43mdecode\u001b[49m\u001b[43m(\u001b[49m\u001b[43ms\u001b[49m\u001b[43m)\u001b[49m\n\u001b[32m    347\u001b[39m \u001b[38;5;28;01mif\u001b[39;00m \u001b[38;5;28mcls\u001b[39m \u001b[38;5;129;01mis\u001b[39;00m \u001b[38;5;28;01mNone\u001b[39;00m:\n",
      "\u001b[36mFile \u001b[39m\u001b[32mc:\\Users\\ERS1397\\AppData\\Local\\Programs\\Python\\Python313\\Lib\\json\\decoder.py:345\u001b[39m, in \u001b[36mJSONDecoder.decode\u001b[39m\u001b[34m(self, s, _w)\u001b[39m\n\u001b[32m    341\u001b[39m \u001b[38;5;250m\u001b[39m\u001b[33;03m\"\"\"Return the Python representation of ``s`` (a ``str`` instance\u001b[39;00m\n\u001b[32m    342\u001b[39m \u001b[33;03mcontaining a JSON document).\u001b[39;00m\n\u001b[32m    343\u001b[39m \n\u001b[32m    344\u001b[39m \u001b[33;03m\"\"\"\u001b[39;00m\n\u001b[32m--> \u001b[39m\u001b[32m345\u001b[39m obj, end = \u001b[38;5;28;43mself\u001b[39;49m\u001b[43m.\u001b[49m\u001b[43mraw_decode\u001b[49m\u001b[43m(\u001b[49m\u001b[43ms\u001b[49m\u001b[43m,\u001b[49m\u001b[43m \u001b[49m\u001b[43midx\u001b[49m\u001b[43m=\u001b[49m\u001b[43m_w\u001b[49m\u001b[43m(\u001b[49m\u001b[43ms\u001b[49m\u001b[43m,\u001b[49m\u001b[43m \u001b[49m\u001b[32;43m0\u001b[39;49m\u001b[43m)\u001b[49m\u001b[43m.\u001b[49m\u001b[43mend\u001b[49m\u001b[43m(\u001b[49m\u001b[43m)\u001b[49m\u001b[43m)\u001b[49m\n\u001b[32m    346\u001b[39m end = _w(s, end).end()\n",
      "\u001b[36mFile \u001b[39m\u001b[32mc:\\Users\\ERS1397\\AppData\\Local\\Programs\\Python\\Python313\\Lib\\json\\decoder.py:363\u001b[39m, in \u001b[36mJSONDecoder.raw_decode\u001b[39m\u001b[34m(self, s, idx)\u001b[39m\n\u001b[32m    362\u001b[39m \u001b[38;5;28;01mexcept\u001b[39;00m \u001b[38;5;167;01mStopIteration\u001b[39;00m \u001b[38;5;28;01mas\u001b[39;00m err:\n\u001b[32m--> \u001b[39m\u001b[32m363\u001b[39m     \u001b[38;5;28;01mraise\u001b[39;00m JSONDecodeError(\u001b[33m\"\u001b[39m\u001b[33mExpecting value\u001b[39m\u001b[33m\"\u001b[39m, s, err.value) \u001b[38;5;28;01mfrom\u001b[39;00m\u001b[38;5;250m \u001b[39m\u001b[38;5;28;01mNone\u001b[39;00m\n\u001b[32m    364\u001b[39m \u001b[38;5;28;01mreturn\u001b[39;00m obj, end\n",
      "\u001b[31mJSONDecodeError\u001b[39m: Expecting value: line 1 column 1 (char 0)",
      "\nThe above exception was the direct cause of the following exception:\n",
      "\u001b[31mNotJSONError\u001b[39m                              Traceback (most recent call last)",
      "\u001b[36mCell\u001b[39m\u001b[36m \u001b[39m\u001b[32mIn[4]\u001b[39m\u001b[32m, line 6\u001b[39m\n\u001b[32m      4\u001b[39m \u001b[38;5;66;03m# Load the notebook\u001b[39;00m\n\u001b[32m      5\u001b[39m \u001b[38;5;28;01mwith\u001b[39;00m \u001b[38;5;28mopen\u001b[39m(\u001b[33m\"\u001b[39m\u001b[33mD:\u001b[39m\u001b[33m\\\u001b[39m\u001b[33mgit\u001b[39m\u001b[33m\\\u001b[39m\u001b[33mconversion\u001b[39m\u001b[33m\\\u001b[39m\u001b[33mgd.py\u001b[39m\u001b[33m\"\u001b[39m, \u001b[33m\"\u001b[39m\u001b[33mr\u001b[39m\u001b[33m\"\u001b[39m, encoding=\u001b[33m\"\u001b[39m\u001b[33mutf-8\u001b[39m\u001b[33m\"\u001b[39m) \u001b[38;5;28;01mas\u001b[39;00m f:\n\u001b[32m----> \u001b[39m\u001b[32m6\u001b[39m     notebook_content = \u001b[43mnbformat\u001b[49m\u001b[43m.\u001b[49m\u001b[43mread\u001b[49m\u001b[43m(\u001b[49m\u001b[43mf\u001b[49m\u001b[43m,\u001b[49m\u001b[43m \u001b[49m\u001b[43mas_version\u001b[49m\u001b[43m=\u001b[49m\u001b[32;43m4\u001b[39;49m\u001b[43m)\u001b[49m\n\u001b[32m      8\u001b[39m \u001b[38;5;66;03m# Export to .py\u001b[39;00m\n\u001b[32m      9\u001b[39m exporter = PythonExporter()\n",
      "\u001b[36mFile \u001b[39m\u001b[32mc:\\Users\\ERS1397\\AppData\\Local\\Programs\\Python\\Python313\\Lib\\site-packages\\nbformat\\__init__.py:174\u001b[39m, in \u001b[36mread\u001b[39m\u001b[34m(fp, as_version, capture_validation_error, **kwargs)\u001b[39m\n\u001b[32m    171\u001b[39m     \u001b[38;5;28;01mwith\u001b[39;00m \u001b[38;5;28mopen\u001b[39m(fp, encoding=\u001b[33m\"\u001b[39m\u001b[33mutf8\u001b[39m\u001b[33m\"\u001b[39m) \u001b[38;5;28;01mas\u001b[39;00m f:  \u001b[38;5;66;03m# noqa: PTH123\u001b[39;00m\n\u001b[32m    172\u001b[39m         \u001b[38;5;28;01mreturn\u001b[39;00m reads(f.read(), as_version, capture_validation_error, **kwargs)\n\u001b[32m--> \u001b[39m\u001b[32m174\u001b[39m \u001b[38;5;28;01mreturn\u001b[39;00m \u001b[43mreads\u001b[49m\u001b[43m(\u001b[49m\u001b[43mbuf\u001b[49m\u001b[43m,\u001b[49m\u001b[43m \u001b[49m\u001b[43mas_version\u001b[49m\u001b[43m,\u001b[49m\u001b[43m \u001b[49m\u001b[43mcapture_validation_error\u001b[49m\u001b[43m,\u001b[49m\u001b[43m \u001b[49m\u001b[43m*\u001b[49m\u001b[43m*\u001b[49m\u001b[43mkwargs\u001b[49m\u001b[43m)\u001b[49m\n",
      "\u001b[36mFile \u001b[39m\u001b[32mc:\\Users\\ERS1397\\AppData\\Local\\Programs\\Python\\Python313\\Lib\\site-packages\\nbformat\\__init__.py:92\u001b[39m, in \u001b[36mreads\u001b[39m\u001b[34m(s, as_version, capture_validation_error, **kwargs)\u001b[39m\n\u001b[32m     66\u001b[39m \u001b[38;5;28;01mdef\u001b[39;00m\u001b[38;5;250m \u001b[39m\u001b[34mreads\u001b[39m(s, as_version, capture_validation_error=\u001b[38;5;28;01mNone\u001b[39;00m, **kwargs):\n\u001b[32m     67\u001b[39m \u001b[38;5;250m    \u001b[39m\u001b[33;03m\"\"\"Read a notebook from a string and return the NotebookNode object as the given version.\u001b[39;00m\n\u001b[32m     68\u001b[39m \n\u001b[32m     69\u001b[39m \u001b[33;03m    The string can contain a notebook of any version.\u001b[39;00m\n\u001b[32m   (...)\u001b[39m\u001b[32m     90\u001b[39m \u001b[33;03m        The notebook that was read.\u001b[39;00m\n\u001b[32m     91\u001b[39m \u001b[33;03m    \"\"\"\u001b[39;00m\n\u001b[32m---> \u001b[39m\u001b[32m92\u001b[39m     nb = \u001b[43mreader\u001b[49m\u001b[43m.\u001b[49m\u001b[43mreads\u001b[49m\u001b[43m(\u001b[49m\u001b[43ms\u001b[49m\u001b[43m,\u001b[49m\u001b[43m \u001b[49m\u001b[43m*\u001b[49m\u001b[43m*\u001b[49m\u001b[43mkwargs\u001b[49m\u001b[43m)\u001b[49m\n\u001b[32m     93\u001b[39m     \u001b[38;5;28;01mif\u001b[39;00m as_version \u001b[38;5;129;01mis\u001b[39;00m \u001b[38;5;129;01mnot\u001b[39;00m NO_CONVERT:\n\u001b[32m     94\u001b[39m         nb = convert(nb, as_version)\n",
      "\u001b[36mFile \u001b[39m\u001b[32mc:\\Users\\ERS1397\\AppData\\Local\\Programs\\Python\\Python313\\Lib\\site-packages\\nbformat\\reader.py:75\u001b[39m, in \u001b[36mreads\u001b[39m\u001b[34m(s, **kwargs)\u001b[39m\n\u001b[32m     50\u001b[39m \u001b[38;5;250m\u001b[39m\u001b[33;03m\"\"\"Read a notebook from a json string and return the\u001b[39;00m\n\u001b[32m     51\u001b[39m \u001b[33;03mNotebookNode object.\u001b[39;00m\n\u001b[32m     52\u001b[39m \n\u001b[32m   (...)\u001b[39m\u001b[32m     71\u001b[39m \u001b[33;03m    Specified major version is invalid or unsupported.\u001b[39;00m\n\u001b[32m     72\u001b[39m \u001b[33;03m\"\"\"\u001b[39;00m\n\u001b[32m     73\u001b[39m \u001b[38;5;28;01mfrom\u001b[39;00m\u001b[38;5;250m \u001b[39m\u001b[34;01m.\u001b[39;00m\u001b[38;5;250m \u001b[39m\u001b[38;5;28;01mimport\u001b[39;00m NBFormatError, versions\n\u001b[32m---> \u001b[39m\u001b[32m75\u001b[39m nb_dict = \u001b[43mparse_json\u001b[49m\u001b[43m(\u001b[49m\u001b[43ms\u001b[49m\u001b[43m,\u001b[49m\u001b[43m \u001b[49m\u001b[43m*\u001b[49m\u001b[43m*\u001b[49m\u001b[43mkwargs\u001b[49m\u001b[43m)\u001b[49m\n\u001b[32m     76\u001b[39m (major, minor) = get_version(nb_dict)\n\u001b[32m     77\u001b[39m \u001b[38;5;28;01mif\u001b[39;00m major \u001b[38;5;129;01min\u001b[39;00m versions:\n",
      "\u001b[36mFile \u001b[39m\u001b[32mc:\\Users\\ERS1397\\AppData\\Local\\Programs\\Python\\Python313\\Lib\\site-packages\\nbformat\\reader.py:25\u001b[39m, in \u001b[36mparse_json\u001b[39m\u001b[34m(s, **kwargs)\u001b[39m\n\u001b[32m     23\u001b[39m     \u001b[38;5;28;01mif\u001b[39;00m \u001b[38;5;28mlen\u001b[39m(message) > \u001b[32m80\u001b[39m:\n\u001b[32m     24\u001b[39m         message = message[:\u001b[32m77\u001b[39m] + \u001b[33m\"\u001b[39m\u001b[33m...\u001b[39m\u001b[33m\"\u001b[39m\n\u001b[32m---> \u001b[39m\u001b[32m25\u001b[39m     \u001b[38;5;28;01mraise\u001b[39;00m NotJSONError(message) \u001b[38;5;28;01mfrom\u001b[39;00m\u001b[38;5;250m \u001b[39m\u001b[34;01me\u001b[39;00m\n\u001b[32m     26\u001b[39m \u001b[38;5;28;01mreturn\u001b[39;00m nb_dict\n",
      "\u001b[31mNotJSONError\u001b[39m: Notebook does not appear to be JSON: ''"
     ]
    }
   ],
   "source": [
    "import nbformat\n",
    "from nbconvert import PythonExporter\n",
    "\n",
    "# Load the notebook\n",
    "with open(\"D:\\git\\conversion\\gd.py\", \"r\", encoding=\"utf-8\") as f:\n",
    "    notebook_content = nbformat.read(f, as_version=4)\n",
    "\n",
    "# Export to .py\n",
    "exporter = PythonExporter()\n",
    "source, _ = exporter.from_notebook_node(notebook_content)\n",
    "\n",
    "with open(\"D:/git/conversion/gd.py\", \"w\", encoding=\"utf-8\") as f:\n",
    "    f.write(source)\n"
   ]
  }
 ],
 "metadata": {
  "kernelspec": {
   "display_name": "Python 3",
   "language": "python",
   "name": "python3"
  },
  "language_info": {
   "codemirror_mode": {
    "name": "ipython",
    "version": 3
   },
   "file_extension": ".py",
   "mimetype": "text/x-python",
   "name": "python",
   "nbconvert_exporter": "python",
   "pygments_lexer": "ipython3",
   "version": "3.13.7"
  }
 },
 "nbformat": 4,
 "nbformat_minor": 5
}
