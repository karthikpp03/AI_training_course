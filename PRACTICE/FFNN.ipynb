{
 "cells": [
  {
   "cell_type": "code",
   "execution_count": null,
   "id": "39ff01db",
   "metadata": {},
   "outputs": [],
   "source": [
    "import os\n",
    "import numpy as np\n",
    "import pandas as pd\n",
    "from tensorflow.keras.preprocessing.image import load_img, img_to_array\n",
    "from tensorflow.keras.models import Sequential\n",
    "from tensorflow.keras.layers import Dense, Flatten\n",
    "from sklearn.model_selection import train_test_split\n",
    "from tensorflow.keras.utils import to_categorical\n",
    "from tensorflow.keras.optimizers import Adam"
   ]
  },
  {
   "cell_type": "code",
   "execution_count": null,
   "id": "0ba22212",
   "metadata": {},
   "outputs": [],
   "source": [
    "X = []\n",
    "y = []"
   ]
  },
  {
   "cell_type": "code",
   "execution_count": null,
   "id": "59283497",
   "metadata": {},
   "outputs": [],
   "source": [
    "background_folder = r\"D:\\git\\PRACTICE\\DATA\\level_1_train\\level_1\\background\"\n",
    "for file in os.listdir(background_folder):\n",
    "    img_path = os.path.join(background_folder, file)\n",
    "    img = load_img(img_path, target_size=(16,16), color_mode='grayscale')\n",
    "    arr = img_to_array(img)/255.0\n",
    "    X.append(arr)\n",
    "    y.append(0)"
   ]
  },
  {
   "cell_type": "code",
   "execution_count": null,
   "id": "33bf5899",
   "metadata": {},
   "outputs": [],
   "source": [
    "text_folders = [\n",
    "    r\"D:\\git\\PRACTICE\\DATA\\level_1_train\\level_1\\en\",\n",
    "    r\"D:\\git\\PRACTICE\\DATA\\level_1_train\\level_1\\hi\",\n",
    "    r\"D:\\git\\PRACTICE\\DATA\\level_1_train\\level_1\\ta\"\n",
    "]"
   ]
  },
  {
   "cell_type": "code",
   "execution_count": null,
   "id": "e2c8e404",
   "metadata": {},
   "outputs": [],
   "source": [
    "for folder in text_folders:\n",
    "    for file in os.listdir(folder):\n",
    "        img_path = os.path.join(folder, file)\n",
    "        img = load_img(img_path, target_size=(16,16), color_mode='grayscale')\n",
    "        arr = img_to_array(img)/255.0\n",
    "        X.append(arr)\n",
    "        y.append(1)"
   ]
  },
  {
   "cell_type": "code",
   "execution_count": null,
   "id": "cff0ca5f",
   "metadata": {},
   "outputs": [],
   "source": [
    "X = np.array(X)\n",
    "y = np.array(y)\n",
    "\n",
    "X = 1 - X"
   ]
  },
  {
   "cell_type": "code",
   "execution_count": null,
   "id": "ee73a713",
   "metadata": {},
   "outputs": [],
   "source": [
    "X = X.reshape(len(X), -1)\n",
    "print(\"Training data shape:\", X.shape, \"Labels shape:\", y.shape)"
   ]
  },
  {
   "cell_type": "code",
   "execution_count": null,
   "id": "b2e4ac75",
   "metadata": {},
   "outputs": [],
   "source": [
    "X_test = []\n",
    "test_ids = []"
   ]
  },
  {
   "cell_type": "code",
   "execution_count": null,
   "id": "bd464588",
   "metadata": {},
   "outputs": [],
   "source": [
    "test_folder = r\"D:\\git\\PRACTICE\\DATA\\level_1_test\\kaggle_level_1\"\n",
    "for file in os.listdir(test_folder):\n",
    "    img_path = os.path.join(test_folder, file)\n",
    "    img = load_img(img_path, target_size=(16,16), color_mode='grayscale')\n",
    "    arr = img_to_array(img)/255.0\n",
    "    arr = 1 - arr  # invert\n",
    "    X_test.append(arr)\n",
    "    test_ids.append(int(file.split('.')[0]))\n",
    "\n",
    "X_test = np.array(X_test).reshape(len(X_test), -1)\n",
    "print(\"Test data shape:\", X_test.shape)"
   ]
  },
  {
   "cell_type": "code",
   "execution_count": null,
   "id": "0d28db53",
   "metadata": {},
   "outputs": [],
   "source": [
    "model = Sequential([\n",
    "    Dense(128, input_shape=(256,), activation='relu'),\n",
    "    Dense(64, activation='relu'),\n",
    "    Dense(1, activation='sigmoid')  # output probability\n",
    "])\n",
    "\n",
    "model.compile(optimizer=Adam(0.001), loss='binary_crossentropy', metrics=['accuracy'])\n",
    "model.summary()"
   ]
  },
  {
   "cell_type": "code",
   "execution_count": null,
   "id": "9b9a25ff",
   "metadata": {},
   "outputs": [],
   "source": [
    "model.fit(X, y, epochs=100, batch_size=32, validation_split=0.1, verbose=2)"
   ]
  },
  {
   "cell_type": "code",
   "execution_count": null,
   "id": "db904277",
   "metadata": {},
   "outputs": [],
   "source": [
    "y_pred_prob = model.predict(X_test).flatten()\n",
    "y_pred_class = (y_pred_prob >= 0.5).astype(int)"
   ]
  },
  {
   "cell_type": "code",
   "execution_count": null,
   "id": "2c69db6e",
   "metadata": {},
   "outputs": [],
   "source": [
    "df = pd.DataFrame({\n",
    "    'ImageId': test_ids,\n",
    "    'Probability': y_pred_prob,\n",
    "    'Class': y_pred_class\n",
    "})\n",
    "df.to_csv(r\"D:\\git\\PRACTICE\\DATA\\OUTPUT\\ffnn_predictions.csv\", index=False)\n",
    "print(\"Predictions saved to ffnn_predictions.csv\")"
   ]
  },
  {
   "cell_type": "markdown",
   "id": "14dd87c6",
   "metadata": {},
   "source": [
    "# Multi Class"
   ]
  },
  {
   "cell_type": "code",
   "execution_count": null,
   "id": "6b43b9c2",
   "metadata": {},
   "outputs": [],
   "source": [
    "X = []\n",
    "y = []\n",
    "\n",
    "background_folder = r\"D:\\git\\PRACTICE\\DATA\\level_1_train\\level_1\\background\"\n",
    "for file in os.listdir(background_folder):\n",
    "    img_path = os.path.join(background_folder, file)\n",
    "    img = load_img(img_path, target_size=(16,16), color_mode='grayscale')\n",
    "    arr = img_to_array(img)/255.0\n",
    "    X.append(arr)\n",
    "    y.append(0)"
   ]
  },
  {
   "cell_type": "code",
   "execution_count": null,
   "id": "5d8004f5",
   "metadata": {},
   "outputs": [],
   "source": [
    "text_classes = {\n",
    "    1: r\"D:\\git\\PRACTICE\\DATA\\level_1_train\\level_1\\en\",\n",
    "    2: r\"D:\\git\\PRACTICE\\DATA\\level_1_train\\level_1\\hi\",\n",
    "    3: r\"D:\\git\\PRACTICE\\DATA\\level_1_train\\level_1\\ta\"\n",
    "}"
   ]
  },
  {
   "cell_type": "code",
   "execution_count": null,
   "id": "fc92c0ce",
   "metadata": {},
   "outputs": [],
   "source": [
    "for label, folder in text_classes.items():\n",
    "    for file in os.listdir(folder):\n",
    "        img_path = os.path.join(folder, file)\n",
    "        img = load_img(img_path, target_size=(16,16), color_mode='grayscale')\n",
    "        arr = img_to_array(img)/255.0\n",
    "        X.append(arr)\n",
    "        y.append(label)"
   ]
  },
  {
   "cell_type": "code",
   "execution_count": null,
   "id": "49d2714f",
   "metadata": {},
   "outputs": [],
   "source": [
    "X = np.array(X)\n",
    "y = np.array(y)\n",
    "\n",
    "X = 1 - X"
   ]
  },
  {
   "cell_type": "code",
   "execution_count": null,
   "id": "022637b7",
   "metadata": {},
   "outputs": [],
   "source": [
    "\n",
    "X = X.reshape(len(X), -1)\n",
    "\n",
    "y_cat = to_categorical(y, num_classes=4)\n",
    "\n",
    "print(\"Training shape:\", X.shape, \"Labels shape:\", y_cat.shape)"
   ]
  },
  {
   "cell_type": "code",
   "execution_count": null,
   "id": "64b49a90",
   "metadata": {},
   "outputs": [],
   "source": [
    "X_test = []\n",
    "test_ids = []"
   ]
  },
  {
   "cell_type": "code",
   "execution_count": null,
   "id": "e102d270",
   "metadata": {},
   "outputs": [],
   "source": [
    "test_folder = r\"D:\\git\\PRACTICE\\DATA\\level_1_test\\kaggle_level_1\"\n",
    "for file in os.listdir(test_folder):\n",
    "    img_path = os.path.join(test_folder, file)\n",
    "    img = load_img(img_path, target_size=(16,16), color_mode='grayscale')\n",
    "    arr = img_to_array(img)/255.0\n",
    "    arr = 1 - arr\n",
    "    X_test.append(arr)\n",
    "    test_ids.append(int(file.split('.')[0]))\n",
    "\n",
    "X_test = np.array(X_test).reshape(len(X_test), -1)\n",
    "print(\"Test shape:\", X_test.shape)"
   ]
  },
  {
   "cell_type": "code",
   "execution_count": null,
   "id": "c3ad3129",
   "metadata": {},
   "outputs": [],
   "source": [
    "model = Sequential([\n",
    "    Dense(128, input_shape=(256,), activation='relu'),\n",
    "    Dense(64, activation='relu'),\n",
    "    Dense(4, activation='softmax')  # multi-class output\n",
    "])\n",
    "\n",
    "model.compile(optimizer=Adam(0.001), loss='categorical_crossentropy', metrics=['accuracy'])\n",
    "model.summary()"
   ]
  },
  {
   "cell_type": "code",
   "execution_count": null,
   "id": "03374425",
   "metadata": {},
   "outputs": [],
   "source": [
    "model.fit(X, y_cat, epochs=100, batch_size=32, validation_split=0.1, verbose=2)"
   ]
  },
  {
   "cell_type": "code",
   "execution_count": null,
   "id": "843e7b54",
   "metadata": {},
   "outputs": [],
   "source": [
    "y_pred_prob = model.predict(X_test)\n",
    "y_pred_class = np.argmax(y_pred_prob, axis=1)"
   ]
  },
  {
   "cell_type": "code",
   "execution_count": null,
   "id": "b7784476",
   "metadata": {},
   "outputs": [],
   "source": [
    "df = pd.DataFrame({\n",
    "    'ImageId': test_ids,\n",
    "    'Class': y_pred_class\n",
    "})\n",
    "df.to_csv(r\"D:\\git\\PRACTICE\\DATA\\OUTPUT\\MULTI_ffnn_predictions.csv\", index=False)\n",
    "print(\"Predictions saved to ffnn_multiclass_predictions.csv\")"
   ]
  }
 ],
 "metadata": {
  "kernelspec": {
   "display_name": "Python 3",
   "language": "python",
   "name": "python3"
  },
  "language_info": {
   "codemirror_mode": {
    "name": "ipython",
    "version": 3
   },
   "file_extension": ".py",
   "mimetype": "text/x-python",
   "name": "python",
   "nbconvert_exporter": "python",
   "pygments_lexer": "ipython3",
   "version": "3.13.7"
  }
 },
 "nbformat": 4,
 "nbformat_minor": 5
}
