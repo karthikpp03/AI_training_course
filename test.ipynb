{
 "cells": [
  {
   "cell_type": "code",
   "execution_count": null,
   "id": "da5b9d15",
   "metadata": {},
   "outputs": [],
   "source": [
    "import numpy as np\n",
    "import matplotlib.pyplot as plt\n",
    "import numpy"
   ]
  },
  {
   "cell_type": "code",
   "execution_count": null,
   "id": "659ccb4e",
   "metadata": {},
   "outputs": [],
   "source": [
    "\n",
    "def plot(vecs):\n",
    "    colors = 'r','b','g','y'\n",
    "    i=0\n",
    "    for vec in vecs:\n",
    "\n",
    "       \n",
    "         plt.quiver(vec[0],vec[1],vec[2],vec[3], scale_units=\"xy\", angles='xy',scale=1,color= colors[i%len(colors)])\n",
    "         i+=1\n",
    "    plt.xlim(-10,10)\n",
    "    plt.ylim(-10,10)\n",
    "    plt.show()"
   ]
  },
  {
   "cell_type": "code",
   "execution_count": null,
   "id": "eb9c596a",
   "metadata": {},
   "outputs": [],
   "source": [
    "vecs= [np.asarray([0,0,3,4]),np.asarray([0,0,-3,4]),np.asarray([0,0,-3,-2]),np.asarray([0,0,4,2])]\n"
   ]
  },
  {
   "cell_type": "code",
   "execution_count": null,
   "id": "ef306684",
   "metadata": {},
   "outputs": [],
   "source": [
    "plot(vecs)"
   ]
  },
  {
   "cell_type": "code",
   "execution_count": null,
   "id": "12088f16",
   "metadata": {},
   "outputs": [],
   "source": [
    "a= np.asarray([3,4])\n",
    "b= np.asarray([4,-1])"
   ]
  },
  {
   "cell_type": "code",
   "execution_count": null,
   "id": "f8d7fd65",
   "metadata": {},
   "outputs": [],
   "source": [
    "#multiplication\n",
    "a_dot_b= np.dot(a,b)\n",
    "print(a_dot_b)"
   ]
  },
  {
   "cell_type": "code",
   "execution_count": null,
   "id": "a6f71fc4",
   "metadata": {},
   "outputs": [],
   "source": [
    "a_b= np.dot(a,b)/np.linalg.norm(b)\n",
    "print(a_b)"
   ]
  },
  {
   "cell_type": "code",
   "execution_count": null,
   "id": "d4577c49",
   "metadata": {},
   "outputs": [],
   "source": [
    "vec_a_b= (a_b/np.linalg.norm(b)*b)\n",
    "print(vec_a_b)"
   ]
  },
  {
   "cell_type": "markdown",
   "id": "0a0d0acc",
   "metadata": {},
   "source": [
    "MP Neuron "
   ]
  },
  {
   "cell_type": "code",
   "execution_count": null,
   "id": "af7f4c98",
   "metadata": {},
   "outputs": [],
   "source": [
    "def mp_and(x1, x2):\n",
    "    weights = [1, 1]\n",
    "    threshold = 2\n",
    "    return 1 if x1*weights[0] + x2*weights[1] >= threshold else 0\n",
    "\n",
    "\n",
    "for x1 in [0,1]:\n",
    "    for x2 in [0,1]:\n",
    "        print(f\"x1={x1}, x2={x2} -> AND output: {mp_and(x1,x2)}\")\n"
   ]
  },
  {
   "cell_type": "code",
   "execution_count": null,
   "id": "6c29e692",
   "metadata": {},
   "outputs": [],
   "source": [
    "def mp_or(x1, x2):\n",
    "    weights = [1,1]\n",
    "    threshold = 1  \n",
    "    return 1 if x1*weights[0] + x2*weights[1] >= threshold else 0\n",
    "\n",
    "for x1 in [0,1]:\n",
    "    for x2 in [0,1]:\n",
    "        print(f\"x1={x1}, x2={x2} -> OR output: {mp_or(x1,x2)}\")\n"
   ]
  },
  {
   "cell_type": "code",
   "execution_count": null,
   "id": "860dd319",
   "metadata": {},
   "outputs": [],
   "source": [
    "def mp_not(x):\n",
    "    weights = [-1]\n",
    "    threshold = 0  \n",
    "    return 1 if x*weights[0] >= threshold else 0\n",
    "\n",
    "for x in [0,1]:\n",
    "    print(f\"x={x} -> NOT output: {mp_not(x)}\")\n"
   ]
  },
  {
   "cell_type": "code",
   "execution_count": null,
   "id": "0496d5f7",
   "metadata": {},
   "outputs": [],
   "source": [
    "def mp_combined(x1,x2,x3):\n",
    "    and_out = mp_and(x1,x2)\n",
    "    final_out = mp_or(and_out, x3)\n",
    "    return final_out\n",
    "\n",
    "for x1 in [0,1]:\n",
    "    for x2 in [0,1]:\n",
    "        for x3 in [0,1]:\n",
    "            print(f\"Inputs: [{x1},{x2},{x3}] -> Output: {mp_combined(x1,x2,x3)}\")\n"
   ]
  },
  {
   "cell_type": "code",
   "execution_count": null,
   "id": "1a3d7822",
   "metadata": {},
   "outputs": [],
   "source": [
    "import pandas as pd\n",
    "\n",
    "\n",
    "df = pd.read_csv('D:/Test_Task/resume.csv')\n",
    "#print(\"padikuthu\")\n",
    "\n",
    "if 'Interview' in df.columns:\n",
    "    df = df.drop('Interview', axis=1)\n",
    "\n",
    "X = df.values\n",
    "\n",
    "\n",
    "def mp_neuron(inputs, weights, threshold):\n",
    "    total = sum(i*w for i, w in zip(inputs, weights))\n",
    "    print(\"total\",total)\n",
    "    return 1 if total >= threshold else 0\n",
    "\t\t\t\t\n",
    "\n",
    "\n",
    "weights = [1] * X.shape[1]\n",
    "\n",
    "\n",
    "threshold = 10\n",
    "\n",
    "df['Predicted_Hire'] = [mp_neuron(row, weights, threshold) for row in X]\n",
    "\n",
    "\n",
    "df.to_csv('D:/Test_Task/resume.csv', index=False)\n",
    "\n",
    "print(\"save panni achu\")\n",
    "print(df.head())"
   ]
  },
  {
   "cell_type": "code",
   "execution_count": null,
   "id": "e33d0067",
   "metadata": {},
   "outputs": [],
   "source": [
    "import pandas as pd\n",
    "from sklearn.model_selection import train_test_split\n",
    "from sklearn.preprocessing import StandardScaler\n",
    "from sklearn.linear_model import Perceptron\n",
    "from sklearn.metrics import accuracy_score, classification_report\n",
    "\n",
    "\n",
    "df = pd.read_csv('D:/Test_Task/data.csv')  \n",
    "\n",
    "\n",
    "X = df.drop('is_liked', axis=1).values  \n",
    "y = df['is_liked'].values               \n",
    "\n",
    "\n",
    "scaler = StandardScaler()\n",
    "X_scaled = scaler.fit_transform(X)\n",
    "\n",
    "\n",
    "X_train, X_test, y_train, y_test = train_test_split(\n",
    "    X_scaled, y, test_size=0.2, random_state=42\n",
    ")\n",
    "\n",
    "perceptron = Perceptron(max_iter=1000, eta0=0.01, random_state=42)\n",
    "\n",
    "\n",
    "perceptron.fit(X_train, y_train)\n",
    "preceptron.fit(X_train, y_train)\n",
    "\n",
    "y_pred = perceptron.predict(X_test)\n",
    "\n",
    "\n",
    "accuracy = accuracy_score(y_test, y_pred)\n",
    "print(f\"accu: {accuracy*100:.2f}\")\n",
    "print(f\"classification vanthu eruku\", classification_report(y_test, y_pred))\n",
    "\n",
    "\n",
    "df['Predicted_Like'] = perceptron.predict(scaler.transform(df.drop('is_liked', axis=1)))\n",
    "df.to_csv('D:/Test_Task/data.csv', index=False)\n",
    "\n"
   ]
  },
  {
   "cell_type": "code",
   "execution_count": null,
   "id": "bc48b953",
   "metadata": {},
   "outputs": [],
   "source": [
    "import tensorflow as tf\n",
    "from tensorflow.keras import layers, models\n",
    "\n",
    "model = models.Sequential([\n",
    "    layers.Conv2D(32, (3, 3), activation='relu', input_shape=(28, 28, 1)),\n",
    "    layers.MaxPooling2D((2, 2)),\n",
    "    layers.Flatten(),\n",
    "    layers.Dense(64, activation='relu'),\n",
    "    layers.Dense(10, activation='softmax')\n",
    "])\n",
    "\n",
    "model.compile(optimizer='adam', loss='sparse_categorical_crossentropy', metrics=['accuracy'])\n"
   ]
  },
  {
   "cell_type": "code",
   "execution_count": null,
   "id": "02ec1051",
   "metadata": {},
   "outputs": [],
   "source": [
    "import tensorflow as tf\n",
    "\n",
    "\n",
    "def create_custom_cnn():\n",
    "    cnn_model = tf.keras.Sequential()\n",
    "    cnn_model.add(tf.keras.layers.Conv2D(64, kernel_size=(3,3), activation='relu', input_shape=(28,28,1)))\n",
    "    cnn_model.add(tf.keras.layers.MaxPooling2D(pool_size=(2,2)))\n",
    "    cnn_model.add(tf.keras.layers.Conv2D(64, (3,3), activation='relu'))\n",
    "    cnn_model.add(tf.keras.layers.Flatten())\n",
    "    cnn_model.add(tf.keras.layers.Dense(128, activation='relu'))\n",
    "    cnn_model.add(tf.keras.layers.Dense(10, activation='softmax'))\n",
    "    return cnn_model\n",
    "\n",
    "\n",
    "custom_model = create_custom_cnn()\n",
    "custom_model.compile(optimizer='adam', loss='sparse_categorical_crossentropy', metrics=['accuracy'])\n"
   ]
  },
  {
   "cell_type": "code",
   "execution_count": 2,
   "id": "482c11bc",
   "metadata": {},
   "outputs": [],
   "source": [
    "class MPNEURON:\n",
    "    \n",
    "\t\t\t\tdef __init__(self):\n",
    "\t\t\t\t\tself.b=None\n",
    "\t\t\t\tdef model(self,x):\n",
    "\t\t\t\t\treturn (sum(x)>=self.b)\n",
    "\t\t\t\t\n",
    "\t\t\t\tdef predict(self,x):\n",
    "\t\t\t\t\tY=[]\n",
    "\t\t\t\t\tfor x in X:\n",
    "\t\t\t\t\t\tresult = self.mode(x)\n",
    "\t\t\t\t\t\tY.append(result)\n",
    "\t\t\t\t\treturn np.array(Y)\n",
    "\t\t\t\t\n",
    "\t\t\t\tdef fit(self,X,Y):\n",
    "\t\t\t\t\taccuracy={}\n",
    "\n",
    "\t\t\t\t\tfor b in range(X.shape[1]+1):\n",
    "\t\t\t\t\t\tself.b=b\n",
    "\t\t\t\t\t\ty_pred =self.predict(X)\n",
    "\t\t\t\t\t\taccuracy[b] =accuracy_score(y_pred,Y)\n",
    "\n",
    "\t\t\t\t\tbest_b = max(accuracy,key =accuracy_score)\n",
    "\t\t\t\t\tself.b = best_b\n",
    "\n",
    "\t\t\t\t\tprint(\"best\",best_b)\n",
    "\t\t\t\t\tprint(\"accuracy\",accuracy[best_b])"
   ]
  },
  {
   "cell_type": "code",
   "execution_count": null,
   "id": "eab0d36c",
   "metadata": {},
   "outputs": [],
   "source": [
    "mp_neuron = MPNEURON()"
   ]
  },
  {
   "cell_type": "code",
   "execution_count": 2,
   "id": "6bba0f54",
   "metadata": {},
   "outputs": [],
   "source": [
    "import numpy as np\n",
    "import matplotlib.pyplot as plt\n"
   ]
  },
  {
   "cell_type": "code",
   "execution_count": 3,
   "id": "faeb8ce4",
   "metadata": {},
   "outputs": [],
   "source": [
    "def sigmoid(x,w,b):\n",
    "    return 1/(1+np.exp(-(w*x+b)))"
   ]
  },
  {
   "cell_type": "code",
   "execution_count": 4,
   "id": "243cd2b5",
   "metadata": {},
   "outputs": [
    {
     "data": {
      "text/plain": [
       "np.float64(0.6224593312018546)"
      ]
     },
     "execution_count": 4,
     "metadata": {},
     "output_type": "execute_result"
    }
   ],
   "source": [
    "sigmoid(1,0.5,0)"
   ]
  },
  {
   "cell_type": "code",
   "execution_count": 10,
   "id": "df83c0ea",
   "metadata": {},
   "outputs": [],
   "source": [
    "w=-0.9\n",
    "b=0.1\n",
    "X=np.linspace(-10,10,100)\n",
    "Y=sigmoid(X,w,b)"
   ]
  },
  {
   "cell_type": "code",
   "execution_count": 11,
   "id": "ca91edc3",
   "metadata": {},
   "outputs": [
    {
     "data": {
      "image/png": "[encoded data removed]",
      "text/plain": [
       "<Figure size 640x480 with 1 Axes>"
      ]
     },
     "metadata": {},
     "output_type": "display_data"
    }
   ],
   "source": [
    "plt.plot(X,Y)\n",
    "plt.show()"
   ]
  }
 ],
 "metadata": {
  "kernelspec": {
   "display_name": "Python 3",
   "language": "python",
   "name": "python3"
  },
  "language_info": {
   "codemirror_mode": {
    "name": "ipython",
    "version": 3
   },
   "file_extension": ".py",
   "mimetype": "text/x-python",
   "name": "python",
   "nbconvert_exporter": "python",
   "pygments_lexer": "ipython3",
   "version": "3.13.7"
  }
 },
 "nbformat": 4,
 "nbformat_minor": 5
}
