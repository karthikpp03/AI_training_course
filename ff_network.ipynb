{
 "cells": [
  {
   "cell_type": "code",
   "execution_count": null,
   "id": "20465d19",
   "metadata": {},
   "outputs": [],
   "source": [
    "import numpy as np\n",
    "import matplotlib.pyplot as plt\n",
    "import matplotlib.colors\n",
    "import pandas as pd\n",
    "from sklearn.model_selection import train_test_split\n",
    "from sklearn.metrics import accuracy_score, mean_squared_error\n",
    "from tqdm import tqdm_notebook \n",
    "\n",
    "from sklearn.preprocessing import OneHotEncoder\n",
    "from sklearn.datasets import make_blobs\n",
    "\n",
    "from tensorflow.keras.datasets import mnist"
   ]
  },
  {
   "cell_type": "code",
   "execution_count": null,
   "id": "7dbacb6c",
   "metadata": {},
   "outputs": [],
   "source": [
    "\n",
    "class SigmoidNeuron:\n",
    "    def __init__(self):\n",
    " \n",
    "        self.w = None\n",
    "        self.b = None\n",
    "\n",
    "    def perceptron(self, x):\n",
    "        \n",
    "        return np.dot(x, self.w) + self.b\n",
    "\n",
    "    def sigmoid(self, z):\n",
    "        return 1 / (1 + np.exp(-z))\n",
    "\n",
    "    def grad_w_mse(self, x, y):\n",
    "        y_pred = self.sigmoid(self.perceptron(x))\n",
    "        return (y_pred - y) * y_pred * (1 - y_pred) * x\n",
    "\n",
    "    def grad_b_mse(self, x, y):\n",
    "        y_pred = self.sigmoid(self.perceptron(x))\n",
    "        return (y_pred - y) * y_pred * (1 - y_pred)\n",
    "\n",
    "    def grad_w_ce(self, x, y):\n",
    "        y_pred = self.sigmoid(self.perceptron(x))\n",
    "        if y == 0:\n",
    "            return y_pred * x\n",
    "        else:  # y == 1\n",
    "            return - (1 - y_pred) * x\n",
    "\n",
    "    def grad_b_ce(self, x, y):\n",
    "        y_pred = self.sigmoid(self.perceptron(x))\n",
    "        if y == 0:\n",
    "            return y_pred\n",
    "        else:  # y == 1\n",
    "            return - (1 - y_pred)\n",
    "\n",
    "    def fit(self, X, Y, epochs=10, lr=0.1, loss_fn=\"mse\"):\n",
    "        \n",
    "        self.w = np.random.randn(X.shape[1])\n",
    "        self.b = 0\n",
    "\n",
    "        \n",
    "        loss_history = []                            # loss\n",
    "\n",
    "        for epoch in range(epochs):\n",
    "            total_dw = 0\n",
    "            total_db = 0\n",
    "            for i in range(len(X)):\n",
    "                x = X[i]\n",
    "                y = Y[i]\n",
    "                if loss_fn == \"mse\":\n",
    "                    total_dw += self.grad_w_mse(x, y)\n",
    "                    total_db += self.grad_b_mse(x, y)\n",
    "                elif loss_fn == \"ce\":\n",
    "                    total_dw += self.grad_w_ce(x, y)\n",
    "                    total_db += self.grad_b_ce(x, y)\n",
    "\n",
    "            \n",
    "            total_dw /= len(X)\n",
    "            total_db /= len(X)\n",
    "\n",
    "            \n",
    "            self.w -= lr * total_dw\n",
    "            self.b -= lr * total_db\n",
    "\n",
    "            Y_pred = self.predict(X)\n",
    "            if loss_fn == \"mse\":\n",
    "                loss = np.mean((Y - Y_pred) ** 2)\n",
    "            elif loss_fn == \"ce\":\n",
    "          \n",
    "                Y_pred = np.clip(Y_pred, 1e-10, 1-1e-10)\n",
    "                loss = -np.mean(Y*np.log(Y_pred) + (1-Y)*np.log(1-Y_pred))\n",
    "\n",
    "            loss_history.append(loss)\n",
    "            print(f\"Epoch data inga varum {epoch+1}, Loss evlo {loss:.4f}\")\n",
    "\n",
    "        \n",
    "        plt.plot(loss_history)\n",
    "        plt.xlabel(\"Epochs\")\n",
    "        plt.ylabel(\"Loss\")\n",
    "        plt.show()\n",
    "\n",
    "    def predict(self, X):\n",
    "     \n",
    "        return np.array([self.sigmoid(self.perceptron(x)) for x in X])\n"
   ]
  },
  {
   "cell_type": "code",
   "execution_count": null,
   "id": "5507cc67",
   "metadata": {},
   "outputs": [],
   "source": [
    "my_cmap = matplotlib.colors.LinearSegmentedColormap.from_list(\"\", [\"red\",\"yellow\",\"green\"])\n",
    "np.random.seed(0)"
   ]
  },
  {
   "cell_type": "code",
   "execution_count": null,
   "id": "efcff6aa",
   "metadata": {},
   "outputs": [],
   "source": [
    "data, labels = make_blobs(n_samples=1000, centers=4, n_features=2, random_state=0)\n",
    "print(data.shape, labels.shape)"
   ]
  },
  {
   "cell_type": "code",
   "execution_count": null,
   "id": "84b0d1d0",
   "metadata": {},
   "outputs": [],
   "source": [
    "plt.scatter(data[:,0], data[:,1], c=labels, cmap=my_cmap)\n",
    "plt.show()"
   ]
  },
  {
   "cell_type": "code",
   "execution_count": null,
   "id": "b791e2fa",
   "metadata": {},
   "outputs": [],
   "source": [
    "X_train, X_val, Y_train, Y_val = train_test_split(data, labels, stratify=labels, random_state=0)\n",
    "print(X_train.shape, X_val.shape)\n"
   ]
  },
  {
   "cell_type": "code",
   "execution_count": null,
   "id": "5c9a3107",
   "metadata": {},
   "outputs": [],
   "source": [
    "class FirstFFNetwork:\n",
    "    def __init__(self):\n",
    "        self.w1 = np.random.randn()\n",
    "        self.w2 = np.random.randn()\n",
    "        self.w3 = np.random.randn()\n",
    "        self.w4 = np.random.randn()\n",
    "        self.w5 = np.random.randn()\n",
    "        self.w6 = np.random.randn()\n",
    "        self.b1 = 0\n",
    "        self.b2 = 0\n",
    "        self.b3 = 0\n",
    "\n",
    "    def sigmoid(self, x):\n",
    "        return 1 / (1 + np.exp(-x))\n",
    "\n",
    "    def forward_pass(self, x):\n",
    "        x1, x2 = x\n",
    "        a1 = self.w1*x1 + self.w2*x2 + self.b1\n",
    "        h1 = self.sigmoid(a1)\n",
    "        a2 = self.w3*x1 + self.w4*x2 + self.b2\n",
    "        h2 = self.sigmoid(a2)\n",
    "        a3 = self.w5*h1 + self.w6*h2 + self.b3\n",
    "        h3 = self.sigmoid(a3)\n",
    "        return h1, h2, h3\n",
    "\n",
    "    def grad(self, x, y):\n",
    "        x1, x2 = x\n",
    "        h1, h2, h3 = self.forward_pass(x)\n",
    "        d_output = (h3 - y) * h3 * (1 - h3)\n",
    "        dw5 = d_output * h1\n",
    "        dw6 = d_output * h2\n",
    "        db3 = d_output\n",
    "        d_h1 = d_output * self.w5 * h1 * (1 - h1)\n",
    "        dw1 = d_h1 * x1\n",
    "        dw2 = d_h1 * x2\n",
    "        db1 = d_h1\n",
    "        d_h2 = d_output * self.w6 * h2 * (1 - h2)\n",
    "        dw3 = d_h2 * x1\n",
    "        dw4 = d_h2 * x2\n",
    "        db2 = d_h2\n",
    "        return dw1, dw2, dw3, dw4, dw5, dw6, db1, db2, db3\n",
    "\n",
    "    def fit(self, X, Y, epochs=10, lr=0.1, display_loss=False):\n",
    "        loss_history = []\n",
    "\n",
    "        for epoch in range(epochs):\n",
    "            dw1 = dw2 = dw3 = dw4 = dw5 = dw6 = db1 = db2 = db3 = 0\n",
    "            for x, y in zip(X, Y):\n",
    "                g = self.grad(x, y)\n",
    "                dw1 += g[0]; dw2 += g[1]; dw3 += g[2]; dw4 += g[3]\n",
    "                dw5 += g[4]; dw6 += g[5]; db1 += g[6]; db2 += g[7]; db3 += g[8]\n",
    "\n",
    "            m = len(X)\n",
    "            self.w1 -= lr * dw1 / m\n",
    "            self.w2 -= lr * dw2 / m\n",
    "            self.w3 -= lr * dw3 / m\n",
    "            self.w4 -= lr * dw4 / m\n",
    "            self.w5 -= lr * dw5 / m\n",
    "            self.w6 -= lr * dw6 / m\n",
    "            self.b1 -= lr * db1 / m\n",
    "            self.b2 -= lr * db2 / m\n",
    "            self.b3 -= lr * db3 / m\n",
    "\n",
    "            if display_loss:\n",
    "                Y_pred = self.predict(X)\n",
    "                loss = np.mean((Y - Y_pred) ** 2)\n",
    "                loss_history.append(loss)\n",
    "                print(f\"Epoch {epoch+1}, Loss: {loss:.4f}\")\n",
    "\n",
    "        if display_loss:\n",
    "            plt.plot(loss_history)\n",
    "            plt.xlabel(\"Epochs\")\n",
    "            plt.ylabel(\"MSE Loss\")\n",
    "            plt.show()\n",
    "\n",
    "    def predict(self, X):\n",
    "        return np.array([self.forward_pass(x)[2] for x in X])"
   ]
  },
  {
   "cell_type": "code",
   "execution_count": null,
   "id": "9df7f4f5",
   "metadata": {},
   "outputs": [],
   "source": [
    "X = np.array([[0,0],[0,1],[1,0],[1,1]])\n",
    "Y = np.array([0,1,1,0])"
   ]
  },
  {
   "cell_type": "code",
   "execution_count": null,
   "id": "25b6b878",
   "metadata": {},
   "outputs": [],
   "source": [
    "network = FirstFFNetwork()\n",
    "network.fit(X, Y, epochs=5000, lr=0.5, display_loss=True)"
   ]
  },
  {
   "cell_type": "code",
   "execution_count": null,
   "id": "3130dbaa",
   "metadata": {},
   "outputs": [],
   "source": [
    "predictions = network.predict(X)\n",
    "print(\"Predictions:\", predictions)"
   ]
  },
  {
   "cell_type": "code",
   "execution_count": null,
   "id": "5e949047",
   "metadata": {},
   "outputs": [],
   "source": [
    "ffn = FirstFFNetwork()\n",
    "ffn.fit(X, Y, epochs=2000, lr=0.01, display_loss=True)"
   ]
  },
  {
   "cell_type": "code",
   "execution_count": null,
   "id": "4fd5f714",
   "metadata": {},
   "outputs": [],
   "source": [
    "Y_pred_train = ffn.predict(X_train)\n",
    "Y_pred_binarised_train = (Y_pred_train >= 0.5).astype(\"int\").ravel()\n",
    "Y_pred_val = ffn.predict(X_val)\n",
    "Y_pred_binarised_val = (Y_pred_val >= 0.5).astype(\"int\").ravel()\n",
    "accuracy_train = accuracy_score(Y_pred_binarised_train, Y_train)\n",
    "accuracy_val = accuracy_score(Y_pred_binarised_val, Y_val)\n",
    "\n",
    "print(\"Training points\", round(accuracy_train, 2))\n",
    "print(\"Validation points\", round(accuracy_val, 2))"
   ]
  },
  {
   "cell_type": "code",
   "execution_count": null,
   "id": "8907a328",
   "metadata": {},
   "outputs": [],
   "source": [
    "\n",
    "X = np.array([[0,0],[0,1],[1,0],[1,1]])\n",
    "Y = np.array([0,1,1,0])\n",
    "\n",
    "\n",
    "plt.scatter(X[:,0], X[:,1], c=Y, cmap='bwr')\n",
    "plt.xlabel(\"X1\")\n",
    "plt.ylabel(\"X2\")\n",
    "plt.show()\n"
   ]
  },
  {
   "cell_type": "code",
   "execution_count": null,
   "id": "c085962f",
   "metadata": {},
   "outputs": [],
   "source": [
    "ffn = FirstFFNetwork()\n",
    "ffn.fit(X, Y, epochs=5000, lr=0.5, display_loss=True)\n",
    "preds_ffn = ffn.predict(X)\n",
    "print(\"FF Network predictions:\", preds_ffn)\n"
   ]
  },
  {
   "cell_type": "code",
   "execution_count": null,
   "id": "23f0cad9",
   "metadata": {},
   "outputs": [],
   "source": [
    "from tensorflow.keras.datasets import mnist\n",
    "\n",
    "\n",
    "(X_train, y_train), (X_test, y_test) = mnist.load_data()\n",
    "print(X_train.shape)  # (60000, 28, 28)\n",
    "print(y_train.shape)  # (60000,)\n"
   ]
  },
  {
   "cell_type": "code",
   "execution_count": null,
   "id": "5db4fae8",
   "metadata": {},
   "outputs": [],
   "source": [
    "\n",
    "X_train = X_train.reshape(X_train.shape[0], 28*28)\n",
    "X_test = X_test.reshape(X_test.shape[0], 28*28)\n"
   ]
  },
  {
   "cell_type": "code",
   "execution_count": null,
   "id": "78d4cf74",
   "metadata": {},
   "outputs": [],
   "source": [
    "X_train = X_train / 255.0\n",
    "X_test = X_test / 255.0\n"
   ]
  },
  {
   "cell_type": "code",
   "execution_count": null,
   "id": "daede71f",
   "metadata": {},
   "outputs": [],
   "source": [
    "from tensorflow.keras.utils import to_categorical\n",
    "\n",
    "y_train = to_categorical(y_train, 10)  \n",
    "y_test = to_categorical(y_test, 10)\n"
   ]
  },
  {
   "cell_type": "code",
   "execution_count": null,
   "id": "2fcab2f3",
   "metadata": {},
   "outputs": [],
   "source": [
    "\n",
    "input_size = 784\n",
    "hidden_size = 128\n",
    "output_size = 10\n",
    "learning_rate = 0.01\n",
    "\n",
    "# Weights\n",
    "W1 = np.random.randn(input_size, hidden_size) * 0.01\n",
    "b1 = np.zeros((1, hidden_size))\n",
    "\n",
    "W2 = np.random.randn(hidden_size, output_size) * 0.01\n",
    "b2 = np.zeros((1, output_size))\n"
   ]
  },
  {
   "cell_type": "code",
   "execution_count": null,
   "id": "f2e5f70e",
   "metadata": {},
   "outputs": [],
   "source": [
    "def relu(x):\n",
    "    return np.maximum(0, x)\n",
    "\n",
    "def relu_derivative(x):\n",
    "    return (x > 0).astype(float)\n",
    "\n",
    "def softmax(x):\n",
    "    e_x = np.exp(x - np.max(x, axis=1, keepdims=True))\n",
    "    return e_x / np.sum(e_x, axis=1, keepdims=True)\n"
   ]
  },
  {
   "cell_type": "code",
   "execution_count": null,
   "id": "fb596dc1",
   "metadata": {},
   "outputs": [],
   "source": [
    "#hidden\n",
    "Z1 = np.dot(X_train, W1) + b1\n",
    "A1 = relu(Z1)\n",
    "\n",
    "#output\n",
    "Z2 = np.dot(A1, W2) + b2\n",
    "A2 = softmax(Z2)\n",
    "\n",
    "print(A2)\n",
    "print(A1)\n",
    "print(\"a2\",A2[0])"
   ]
  },
  {
   "cell_type": "code",
   "execution_count": null,
   "id": "f3d088ba",
   "metadata": {},
   "outputs": [],
   "source": [
    "def cross_entropy(y_true, y_pred):\n",
    "    n_samples = y_true.shape[0]\n",
    "    return -np.sum(y_true * np.log(y_pred + 1e-8)) / n_samples\n"
   ]
  },
  {
   "cell_type": "code",
   "execution_count": null,
   "id": "69045a6e",
   "metadata": {},
   "outputs": [],
   "source": [
    "\n",
    "dZ2 = A2 - y_train            \n",
    "dW2 = np.dot(A1.T, dZ2) / X_train.shape[0]\n",
    "db2 = np.sum(dZ2, axis=0, keepdims=True) / X_train.shape[0]\n",
    "\n",
    "\n",
    "dA1 = np.dot(dZ2, W2.T)\n",
    "dZ1 = dA1 * relu_derivative(Z1)\n",
    "dW1 = np.dot(X_train.T, dZ1) / X_train.shape[0]\n",
    "db1 = np.sum(dZ1, axis=0, keepdims=True) / X_train.shape[0]\n",
    "\n",
    "\n",
    "W1 -= learning_rate * dW1\n",
    "b1 -= learning_rate * db1\n",
    "W2 -= learning_rate * dW2\n",
    "b2 -= learning_rate * db2\n",
    "\n",
    "print(db2)\n"
   ]
  },
  {
   "cell_type": "code",
   "execution_count": null,
   "id": "014919b8",
   "metadata": {},
   "outputs": [],
   "source": [
    "np.argmax(A2[0])  \n"
   ]
  },
  {
   "cell_type": "markdown",
   "id": "91f044ad",
   "metadata": {},
   "source": [
    "# custom data training\n"
   ]
  },
  {
   "cell_type": "code",
   "execution_count": null,
   "id": "458d1f2a",
   "metadata": {},
   "outputs": [],
   "source": [
    "\n",
    "train_data = pd.read_csv(\"D:/git/data/fashion-mnist_train.csv\")\n",
    "test_data = pd.read_csv(\"D:/git/data/fashion-mnist_test.csv\")\n",
    "\n",
    "X_train = train_data.drop(\"label\", axis=1).values / 255.0\n",
    "y_train = to_categorical(train_data[\"label\"].values, 10)\n",
    "\n",
    "X_test = test_data.drop(\"label\", axis=1).values / 255.0\n",
    "y_test = to_categorical(test_data[\"label\"].values, 10)\n"
   ]
  },
  {
   "cell_type": "code",
   "execution_count": null,
   "id": "c2bb2d45",
   "metadata": {},
   "outputs": [],
   "source": [
    "input_size = 784      # 28x28 pixels\n",
    "hidden_size = 128\n",
    "output_size = 10      # 10 classes\n",
    "learning_rate = 0.1\n",
    "epochs = 200\n"
   ]
  },
  {
   "cell_type": "code",
   "execution_count": null,
   "id": "6337e0c2",
   "metadata": {},
   "outputs": [],
   "source": [
    "W1 = np.random.randn(input_size, hidden_size) * 0.01\n",
    "b1 = np.zeros((1, hidden_size))\n",
    "W2 = np.random.randn(hidden_size, output_size) * 0.01\n",
    "b2 = np.zeros((1, output_size))\n"
   ]
  },
  {
   "cell_type": "code",
   "execution_count": null,
   "id": "564365f7",
   "metadata": {},
   "outputs": [],
   "source": [
    "def relu(x):\n",
    "    return np.maximum(0, x)\n",
    "\n",
    "def relu_derivative(x):\n",
    "    return (x > 0).astype(float)\n",
    "\n",
    "def softmax(x):\n",
    "    e_x = np.exp(x - np.max(x, axis=1, keepdims=True))\n",
    "    return e_x / np.sum(e_x, axis=1, keepdims=True)\n",
    "\n",
    "def cross_entropy(y_true, y_pred):\n",
    "    n_samples = y_true.shape[0]\n",
    "    return -np.sum(y_true * np.log(y_pred + 1e-8)) / n_samples\n"
   ]
  },
  {
   "cell_type": "code",
   "execution_count": null,
   "id": "c2b2c969",
   "metadata": {},
   "outputs": [],
   "source": [
    "for epoch in range(epochs):\n",
    "    \n",
    "    Z1 = np.dot(X_train, W1) + b1\n",
    "    A1 = relu(Z1)\n",
    "    Z2 = np.dot(A1, W2) + b2\n",
    "    A2 = softmax(Z2)\n",
    "\n",
    "\n",
    "    loss = cross_entropy(y_train, A2)\n",
    "\n",
    "   \n",
    "    dZ2 = A2 - y_train\n",
    "    dW2 = np.dot(A1.T, dZ2) / X_train.shape[0]\n",
    "    db2 = np.sum(dZ2, axis=0, keepdims=True) / X_train.shape[0]\n",
    "\n",
    "    dA1 = np.dot(dZ2, W2.T)\n",
    "    dZ1 = dA1 * relu_derivative(Z1)\n",
    "    dW1 = np.dot(X_train.T, dZ1) / X_train.shape[0]\n",
    "    db1 = np.sum(dZ1, axis=0, keepdims=True) / X_train.shape[0]\n",
    "\n",
    "   \n",
    "    W1 -= learning_rate * dW1\n",
    "    b1 -= learning_rate * db1\n",
    "    W2 -= learning_rate * dW2\n",
    "    b2 -= learning_rate * db2\n",
    "\n",
    "    print(f\"Epoch {epoch+1}/{epochs}, Loss: {loss:.4f}\")\n"
   ]
  },
  {
   "cell_type": "code",
   "execution_count": null,
   "id": "2d9f769b",
   "metadata": {},
   "outputs": [],
   "source": [
    "# Forward pass on test set\n",
    "Z1_test = np.dot(X_test, W1) + b1\n",
    "A1_test = relu(Z1_test)\n",
    "Z2_test = np.dot(A1_test, W2) + b2\n",
    "A2_test = softmax(Z2_test)\n",
    "\n",
    "# Predicted labels\n",
    "y_pred = np.argmax(A2_test, axis=1)\n",
    "y_true = np.argmax(y_test, axis=1)\n",
    "\n",
    "accuracy = np.mean(y_pred == y_true)\n",
    "print(f\"Test Accuracy: {accuracy*100:.2f}%\")\n"
   ]
  },
  {
   "cell_type": "code",
   "execution_count": null,
   "id": "e4a9cfe4",
   "metadata": {},
   "outputs": [],
   "source": [
    "\n",
    "i = 0\n",
    "plt.imshow(X_test[i].reshape(28,28), cmap='blue')\n",
    "plt.show()\n",
    "print(\"Predicted:\", y_pred[i], \"Actual:\", y_true[i])\n"
   ]
  }
 ],
 "metadata": {
  "kernelspec": {
   "display_name": "Python 3",
   "language": "python",
   "name": "python3"
  },
  "language_info": {
   "codemirror_mode": {
    "name": "ipython",
    "version": 3
   },
   "file_extension": ".py",
   "mimetype": "text/x-python",
   "name": "python",
   "nbconvert_exporter": "python",
   "pygments_lexer": "ipython3",
   "version": "3.13.7"
  }
 },
 "nbformat": 4,
 "nbformat_minor": 5
}
